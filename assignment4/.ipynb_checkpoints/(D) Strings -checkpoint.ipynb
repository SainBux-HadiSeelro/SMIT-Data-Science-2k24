{
 "cells": [
  {
   "cell_type": "code",
   "execution_count": 1,
   "id": "a8076b98-62e0-46a8-999e-3c2cdaf36316",
   "metadata": {},
   "outputs": [
    {
     "name": "stdout",
     "output_type": "stream",
     "text": [
      "(D)   Strings Assignments\n"
     ]
    }
   ],
   "source": [
    "print(\"(D)   Strings Assignments\")"
   ]
  },
  {
   "cell_type": "code",
   "execution_count": 1,
   "id": "7f3e06cf-2014-43af-8f0e-8ff291911e27",
   "metadata": {},
   "outputs": [
    {
     "name": "stdin",
     "output_type": "stream",
     "text": [
      "Enter a string:  good boy \n"
     ]
    },
    {
     "name": "stdout",
     "output_type": "stream",
     "text": [
      "Number of vowels in the string: 3\n"
     ]
    }
   ],
   "source": [
    "# 1. Write a program that accepts a string from user. Your program should count and display number of\n",
    "# vowels in that string.\n",
    "\n",
    "input_string = input(\"Enter a string: \")\n",
    "\n",
    "vowels = \"aeiouAEIOU\"\n",
    "\n",
    "vowel_count = 0\n",
    "\n",
    "for char in input_string:\n",
    "    if char in vowels:\n",
    "        vowel_count += 1\n",
    "        \n",
    "print(f\"Number of vowels in the string: {vowel_count}\")\n"
   ]
  },
  {
   "cell_type": "code",
   "execution_count": 5,
   "id": "21a09c16-d603-4830-892c-3ea786009f18",
   "metadata": {},
   "outputs": [
    {
     "name": "stdin",
     "output_type": "stream",
     "text": [
      "Enter a string:  A man in 100\n"
     ]
    },
    {
     "name": "stdout",
     "output_type": "stream",
     "text": [
      "Number of uppercase letters: 1\n",
      "Number of lowercase letters: 5\n",
      "Number of digits: 3\n",
      "Number of whitespace characters: 3\n"
     ]
    }
   ],
   "source": [
    "# 2. Write a program that reads a string from keyboard and display:\n",
    "# * The number of uppercase letters in the string\n",
    "# * The number of lowercase letters in the string\n",
    "# * The number of digits in the string\n",
    "# * The number of whitespace characters in the string\n",
    "\n",
    "input_string = input(\"Enter a string: \")\n",
    "\n",
    "uppercase_count = 0\n",
    "lowercase_count = 0\n",
    "digit_count = 0\n",
    "whitespace_count = 0\n",
    "\n",
    "for char in input_string:\n",
    "    if char.isupper():\n",
    "        uppercase_count += 1\n",
    "    elif char.islower():\n",
    "        lowercase_count += 1\n",
    "    elif char.isdigit():\n",
    "        digit_count += 1\n",
    "    elif char.isspace():\n",
    "        whitespace_count += 1\n",
    "\n",
    "print(f\"Number of uppercase letters: {uppercase_count}\")\n",
    "print(f\"Number of lowercase letters: {lowercase_count}\")\n",
    "print(f\"Number of digits: {digit_count}\")\n",
    "print(f\"Number of whitespace characters: {whitespace_count}\")"
   ]
  },
  {
   "cell_type": "code",
   "execution_count": 15,
   "id": "405af2aa-c9a8-48f1-863f-008d7a0c3dcd",
   "metadata": {},
   "outputs": [
    {
     "name": "stdin",
     "output_type": "stream",
     "text": [
      "Enter the any word  mh\n"
     ]
    },
    {
     "name": "stdout",
     "output_type": "stream",
     "text": [
      "hm\n"
     ]
    }
   ],
   "source": [
    "# 4. Write a Python program that accepts a string from user. Your program should create a new string in\n",
    "# reverse of first string and display it.\n",
    "# For example if the user enters the string 'EXAM' then new string would be 'MAXE'\n",
    "\n",
    "alist=input(\"Enter the any word \")\n",
    "newlist=alist[::-1]\n",
    "print(newlist)"
   ]
  },
  {
   "cell_type": "code",
   "execution_count": 23,
   "id": "8a4b4a79-e07e-4824-9f66-b154942cf19d",
   "metadata": {},
   "outputs": [
    {
     "name": "stdin",
     "output_type": "stream",
     "text": [
      "Enter the any string new\n"
     ]
    },
    {
     "name": "stdout",
     "output_type": "stream",
     "text": [
      "the new string is:ewn\n"
     ]
    }
   ],
   "source": [
    "# 5. Write a Python program that accepts a string from user. Your program should create a new string by\n",
    "# shifting one position to left.\n",
    "# For example if the user enters the string 'examination 2021' then new string would be 'xamination\n",
    "# 2021e'\n",
    "\n",
    "alist=input(\"Enter the any string\")\n",
    "newlist=alist[1:] + alist[0]\n",
    "print(f\"the new string is:{newlist}\")"
   ]
  },
  {
   "cell_type": "code",
   "execution_count": 59,
   "id": "d43e558e-b854-46d3-90cd-ea41b70a1d40",
   "metadata": {},
   "outputs": [
    {
     "name": "stdin",
     "output_type": "stream",
     "text": [
      "Enter the full name hadi seelro\n"
     ]
    },
    {
     "name": "stdout",
     "output_type": "stream",
     "text": [
      "The initials are : H. S. \n"
     ]
    }
   ],
   "source": [
    "# 6. Write a program that asks the user to input his name and print its initials. Assuming that the user\n",
    "# always types first name, middle name and last name and does not include any unnecessary spaces.\n",
    "# For example, if the user enters Ajay Kumar Garg the program should display A. K. G.\n",
    "# Note:Don't use split() method\n",
    "\n",
    "full_name=input(\"Enter the full name\")\n",
    "initial=\"\"\n",
    "\n",
    "for i in range(len(full_name)):\n",
    "    if i == 0 or full_name[i - 1] == \" \":\n",
    "        initial += full_name[i].upper() + \". \"\n",
    "\n",
    "print(\"The initials are :\" ,initial)"
   ]
  },
  {
   "cell_type": "code",
   "execution_count": 3,
   "id": "467f2806-ffb1-488b-a6e9-cd5f15b3a251",
   "metadata": {},
   "outputs": [
    {
     "name": "stdin",
     "output_type": "stream",
     "text": [
      "Enter a string:  madam \n"
     ]
    },
    {
     "name": "stdout",
     "output_type": "stream",
     "text": [
      "The string is not a palindrome.\n"
     ]
    }
   ],
   "source": [
    "# 7. A palindrome is a string that reads the same backward as forward. For example, the words dad,\n",
    "# madam and radar are all palindromes. Write a programs that determines whether the string is a\n",
    "# palindrome.\n",
    "# Note: do not use reverse() method\n",
    "\n",
    "user_input = input(\"Enter a string: \")\n",
    "\n",
    "is_palindrome = True\n",
    "\n",
    "for i in range(len(user_input) // 2):\n",
    "    if user_input[i] != user_input[-(i + 1)]:\n",
    "        is_palindrome = False\n",
    "        break\n",
    "\n",
    "if is_palindrome:\n",
    "    print(\"The string is a palindrome.\")\n",
    "else:\n",
    "    print(\"The string is not a palindrome.\")\n"
   ]
  },
  {
   "cell_type": "code",
   "execution_count": 8,
   "id": "11c9a303-7ec0-456b-b2e9-610a58f37bc4",
   "metadata": {},
   "outputs": [
    {
     "name": "stdout",
     "output_type": "stream",
     "text": [
      "SHIFT\n",
      "HIFTS\n",
      "IFTSH\n",
      "FTSHI\n",
      "TSHIF\n",
      "SHIFT\n"
     ]
    }
   ],
   "source": [
    "# 8. Write a program that display following output:\n",
    "# SHIFT\n",
    "# HIFTS\n",
    "# IFTSH\n",
    "# FTSHI\n",
    "# TSHIF\n",
    "# SHIFT\n",
    "\n",
    "text = \"SHIFT\"\n",
    "\n",
    "for i in range(len(text)):\n",
    "    rotated_text = text[i:] + text[:i]\n",
    "    print(rotated_text)\n",
    "\n",
    "print(text)\n",
    "\n"
   ]
  },
  {
   "cell_type": "code",
   "execution_count": 17,
   "id": "299ea84f-405e-4e1b-9ad3-93894a17cb98",
   "metadata": {},
   "outputs": [
    {
     "name": "stdin",
     "output_type": "stream",
     "text": [
      "Enter a password:  Password1123\n"
     ]
    },
    {
     "name": "stdout",
     "output_type": "stream",
     "text": [
      "Password is valid.\n"
     ]
    }
   ],
   "source": [
    "# 9. Write a program in python that accepts a string to setup a passwords. Your entered password must\n",
    "# meet the following requirements:\n",
    "\n",
    "# The password must be at least eight characters long.\n",
    "# It must contain at least one uppercase letter.\n",
    "# It must contain at least one lowercase letter.\n",
    "# It must contain at least one numeric digit.\n",
    "# Your program should should perform this validation.\n",
    "\n",
    "\n",
    "def validate_password(password):\n",
    "    if len(password) < 8:\n",
    "        return \"Password must be at least 8 characters long.\"\n",
    "\n",
    "    if not any(char.isupper() for char in password):\n",
    "        return \"Password must contain at least one uppercase letter.\"\n",
    "\n",
    "    if not any(char.islower() for char in password):\n",
    "        return \"Password must contain at least one lowercase letter.\"\n",
    "\n",
    "    if not any(char.isdigit() for char in password):\n",
    "        return \"Password must contain at least one numeric digit.\"\n",
    "\n",
    "    return \"Password is valid.\"\n",
    "\n",
    "user_password = input(\"Enter a password: \")\n",
    "validation_result = validate_password(user_password)\n",
    "\n",
    "print(validation_result)\n"
   ]
  },
  {
   "cell_type": "code",
   "execution_count": null,
   "id": "484fb01f-16a8-4304-a674-2a742a346c14",
   "metadata": {},
   "outputs": [],
   "source": []
  },
  {
   "cell_type": "code",
   "execution_count": null,
   "id": "04ff19bb-f670-48d6-a962-f72506974ad6",
   "metadata": {},
   "outputs": [],
   "source": []
  }
 ],
 "metadata": {
  "kernelspec": {
   "display_name": "Python 3 (ipykernel)",
   "language": "python",
   "name": "python3"
  },
  "language_info": {
   "codemirror_mode": {
    "name": "ipython",
    "version": 3
   },
   "file_extension": ".py",
   "mimetype": "text/x-python",
   "name": "python",
   "nbconvert_exporter": "python",
   "pygments_lexer": "ipython3",
   "version": "3.11.4"
  }
 },
 "nbformat": 4,
 "nbformat_minor": 5
}
