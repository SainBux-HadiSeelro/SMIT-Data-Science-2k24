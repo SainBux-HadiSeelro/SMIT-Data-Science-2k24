{
 "cells": [
  {
   "cell_type": "code",
   "execution_count": 1,
   "id": "d23b4cb3-b372-4a70-9881-e4a33a8794e0",
   "metadata": {},
   "outputs": [
    {
     "name": "stdout",
     "output_type": "stream",
     "text": [
      "(B)   List Assignment\n"
     ]
    }
   ],
   "source": [
    "print(\"(B)   List Assignment\")"
   ]
  },
  {
   "cell_type": "code",
   "execution_count": 20,
   "id": "1c6b16fb-0bc8-420d-b5c5-1e9f65ecd3a1",
   "metadata": {},
   "outputs": [
    {
     "name": "stdin",
     "output_type": "stream",
     "text": [
      "enter then list with spaces 7klp[ 5 5 k\n"
     ]
    },
    {
     "name": "stdout",
     "output_type": "stream",
     "text": [
      "['7klp[', '5', '5', 'k']\n"
     ]
    }
   ],
   "source": [
    "# 1. Write a program that accepts a list from user and print the alternate element of list.\n",
    "alist=input(\"enter then list with spaces\").split()\n",
    "print(alist)"
   ]
  },
  {
   "cell_type": "code",
   "execution_count": 24,
   "id": "d24eb0c6-6238-4f87-a2a7-22c332bcadd9",
   "metadata": {},
   "outputs": [
    {
     "name": "stdin",
     "output_type": "stream",
     "text": [
      "write a list 2 14 \n"
     ]
    },
    {
     "name": "stdout",
     "output_type": "stream",
     "text": [
      "['14', '2']\n"
     ]
    }
   ],
   "source": [
    "# 2. Write a program that accepts a list from user. Your program should reverse the content of list and\n",
    "# display it. Do not use reverse() method.\n",
    "alist = input(\"write a list\").split()\n",
    "reversedlist = alist[::-1]\n",
    "print(reversedlist)"
   ]
  },
  {
   "cell_type": "code",
   "execution_count": 58,
   "id": "7cfa43e3-19c0-447b-873d-4bc00e6f425f",
   "metadata": {},
   "outputs": [
    {
     "name": "stdin",
     "output_type": "stream",
     "text": [
      "Enter the list 12 11 44\n"
     ]
    },
    {
     "name": "stdout",
     "output_type": "stream",
     "text": [
      "The largest number is 44\n"
     ]
    }
   ],
   "source": [
    "# 3. Find and display the largest number of a list without using built-in function max(). Your program\n",
    "# should ask the user to input values in list from keyboard.\n",
    "\n",
    "alist = input(\"Enter the list\").split()\n",
    "alist= [int (num) for num in alist]\n",
    "\n",
    "largest = alist[0]\n",
    "for num in alist:\n",
    "    if num >largest:\n",
    "        largest = num\n",
    "\n",
    "print(f\"The largest number is {largest}\")"
   ]
  },
  {
   "cell_type": "code",
   "execution_count": 75,
   "id": "39ead836-5587-478c-bc35-a14bff84a612",
   "metadata": {},
   "outputs": [
    {
     "name": "stdin",
     "output_type": "stream",
     "text": [
      "Enter a list of elements separated by spaces:  1 4 5 6\n"
     ]
    },
    {
     "name": "stdout",
     "output_type": "stream",
     "text": [
      "Rotated list is:['6', '1', '4', '5']\n"
     ]
    }
   ],
   "source": [
    "# 4. Write a program that rotates the element of a list so that the element at the first index moves to the\n",
    "# second index, the element in the second index moves to the third index, etc., and the element in the last\n",
    "# index moves to the first index.\n",
    "# Accepting a list from the user\n",
    "\n",
    "user_list = input(\"Enter a list of elements separated by spaces: \").split()\n",
    "\n",
    "\n",
    "rotated_list = user_list[-1:] + user_list[:-1] \n",
    "\n",
    "print(f\"Rotated list is:{rotated_list}\")\n"
   ]
  },
  {
   "cell_type": "code",
   "execution_count": 1,
   "id": "4360c8b2-3655-4acb-9a15-7f197df81d75",
   "metadata": {},
   "outputs": [
    {
     "name": "stdin",
     "output_type": "stream",
     "text": [
      "Enter a string:  gg\n",
      "Enter the word to delete:  ok\n"
     ]
    },
    {
     "name": "stdout",
     "output_type": "stream",
     "text": [
      "Updated String: gg\n"
     ]
    }
   ],
   "source": [
    "# 5. Write a program that inpust a string and ask user to delete a given word from a string.\n",
    "\n",
    "text = input(\"Enter a string: \")\n",
    "word = input(\"Enter the word to delete: \")\n",
    "\n",
    "updated_text = text.replace(word, \"\").strip()\n",
    "\n",
    "\n",
    "print(f\"Updated String: {updated_text}\")\n"
   ]
  },
  {
   "cell_type": "code",
   "execution_count": 9,
   "id": "a547f787-71eb-46a5-82cb-fc091ff64978",
   "metadata": {},
   "outputs": [
    {
     "name": "stdin",
     "output_type": "stream",
     "text": [
      "Enter a date in the format mm/dd/yyyy:  12/10/2001\n"
     ]
    },
    {
     "name": "stdout",
     "output_type": "stream",
     "text": [
      "Formatted Date: December 10, 2001\n"
     ]
    }
   ],
   "source": [
    "# 6. Write a program that reads a string from the user containing a date in the form mm/dd/yyyy. It\n",
    "# should print the date in the form March 12, 2021.\n",
    "\n",
    "date_input = input(\"Enter a date in the format mm/dd/yyyy: \")\n",
    "\n",
    "month, day, year = date_input.split(\"/\")\n",
    "\n",
    "months = [\"January\", \"February\", \"March\", \"April\", \"May\", \"June\", \n",
    "          \"July\", \"August\", \"September\", \"October\", \"November\", \"December\"]\n",
    "\n",
    "formatted_date = f\"{months[int(month) - 1]} {int(day)}, {year}\"\n",
    "\n",
    "print(f\"Formatted Date: {formatted_date}\")\n"
   ]
  },
  {
   "cell_type": "code",
   "execution_count": 15,
   "id": "1e4f8a3e-3451-4350-8309-7cc43dc7b948",
   "metadata": {},
   "outputs": [
    {
     "name": "stdin",
     "output_type": "stream",
     "text": [
      "Enter a sentence:  write read anything\n"
     ]
    },
    {
     "name": "stdout",
     "output_type": "stream",
     "text": [
      "Output: Write Read Anything\n"
     ]
    }
   ],
   "source": [
    "# 7. Write a program with a function that accepts a string from keyboard and create a new string after\n",
    "# converting character of each word capitalized. For instance, if the sentence is \"stop and smell the roses.\"\n",
    "# the output should be \"Stop And Smell The Roses\"\n",
    "\n",
    "def capitalize_words(sentence):\n",
    "    return sentence.title()\n",
    "\n",
    "input_string = input(\"Enter a sentence: \")\n",
    "\n",
    "result = capitalize_words(input_string)\n",
    "\n",
    "print(f\"Output: {result}\")\n"
   ]
  },
  {
   "cell_type": "code",
   "execution_count": 17,
   "id": "edb66e2e-6974-4f8f-9269-3f9e0c205efa",
   "metadata": {},
   "outputs": [
    {
     "name": "stdout",
     "output_type": "stream",
     "text": [
      "Sum of row 1 = 32\n",
      "Sum of row 2 = 31\n",
      "Sum of row 3 = 63\n"
     ]
    }
   ],
   "source": [
    "# 8. Find the sum of each row of matrix of size m x n. For example for the following matrix output will be\n",
    "# like this :\n",
    "# 2 11 7 12\n",
    "# 5 2 9 15\n",
    "# 8 3 10 42\n",
    "# Sum of row 1 = 32\n",
    "# Sum of row 2 = 31\n",
    "# Sum of row 3 = 63\n",
    "\n",
    "matrix = [\n",
    "    [2, 11, 7, 12],\n",
    "    [5, 2, 9, 15],\n",
    "    [8, 3, 10, 42]\n",
    "]\n",
    "\n",
    "for i, row in enumerate(matrix):\n",
    "    print(f\"Sum of row {i + 1} = {sum(row)}\")\n"
   ]
  },
  {
   "cell_type": "code",
   "execution_count": 19,
   "id": "52d586a4-2bbb-411c-9036-84322ce976b1",
   "metadata": {},
   "outputs": [
    {
     "name": "stdout",
     "output_type": "stream",
     "text": [
      "Resultant Matrix:\n",
      "[8, 10, 12]\n",
      "[14, 16, 18]\n"
     ]
    }
   ],
   "source": [
    "# 9. Write a program to add two matrices of size n x m.\n",
    "# Define two matrices\n",
    "\n",
    "matrix1 = [\n",
    "    [1, 2, 3],\n",
    "    [4, 5, 6]\n",
    "]\n",
    "\n",
    "matrix2 = [\n",
    "    [7, 8, 9],\n",
    "    [10, 11, 12]\n",
    "]\n",
    "\n",
    "result = [[matrix1[i][j] + matrix2[i][j] for j in range(len(matrix1[0]))] for i in range(len(matrix1))]\n",
    "\n",
    "print(\"Resultant Matrix:\")\n",
    "for row in result:\n",
    "    print(row)\n"
   ]
  },
  {
   "cell_type": "code",
   "execution_count": 25,
   "id": "c8f36425-50c7-4ae1-86e5-def9dc085fc1",
   "metadata": {},
   "outputs": [
    {
     "name": "stdout",
     "output_type": "stream",
     "text": [
      "Resultant Matrix:\n",
      "[19, 22]\n",
      "[43, 50]\n"
     ]
    }
   ],
   "source": [
    "# 10. Write a program to multiply two matrices\n",
    "\n",
    "matrix1 = [\n",
    "    [1, 2],\n",
    "    [3, 4]\n",
    "]\n",
    "\n",
    "matrix2 = [\n",
    "    [5, 6],\n",
    "    [7, 8]\n",
    "]\n",
    "\n",
    "result = [[0, 0], [0, 0]]\n",
    "\n",
    "for i in range(2):  \n",
    "    for j in range(2):\n",
    "        for k in range(2):  \n",
    "            result[i][j] += matrix1[i][k] * matrix2[k][j]\n",
    "\n",
    "\n",
    "print(\"Resultant Matrix:\")\n",
    "for row in result:\n",
    "    print(row)\n"
   ]
  },
  {
   "cell_type": "code",
   "execution_count": 1,
   "id": "2ceef837-8647-4713-88a2-f3bcda8e16b1",
   "metadata": {},
   "outputs": [
    {
     "name": "stdout",
     "output_type": "stream",
     "text": [
      "complete\n"
     ]
    }
   ],
   "source": [
    "print(\"complete\")"
   ]
  },
  {
   "cell_type": "code",
   "execution_count": null,
   "id": "1e4f8e6c-5a67-4a15-93e6-7ff02a0698d2",
   "metadata": {},
   "outputs": [],
   "source": []
  }
 ],
 "metadata": {
  "kernelspec": {
   "display_name": "Python 3 (ipykernel)",
   "language": "python",
   "name": "python3"
  },
  "language_info": {
   "codemirror_mode": {
    "name": "ipython",
    "version": 3
   },
   "file_extension": ".py",
   "mimetype": "text/x-python",
   "name": "python",
   "nbconvert_exporter": "python",
   "pygments_lexer": "ipython3",
   "version": "3.11.4"
  }
 },
 "nbformat": 4,
 "nbformat_minor": 5
}
