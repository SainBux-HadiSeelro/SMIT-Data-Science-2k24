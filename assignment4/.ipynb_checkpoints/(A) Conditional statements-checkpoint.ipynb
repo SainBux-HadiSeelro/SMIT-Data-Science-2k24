{
 "cells": [
  {
   "cell_type": "code",
   "execution_count": 1,
   "id": "e9a5b368-9abb-43d7-add0-387d2b0631bb",
   "metadata": {},
   "outputs": [
    {
     "name": "stdout",
     "output_type": "stream",
     "text": [
      "(A)  Conditional Structures\n"
     ]
    }
   ],
   "source": [
    "print(\"(A)  Conditional Structures\")"
   ]
  },
  {
   "cell_type": "code",
   "execution_count": 19,
   "id": "af44152e-b78f-43e2-9be4-81f948626cb6",
   "metadata": {},
   "outputs": [
    {
     "name": "stdin",
     "output_type": "stream",
     "text": [
      "Enter the number 5616516554\n"
     ]
    },
    {
     "name": "stdout",
     "output_type": "stream",
     "text": [
      "even\n"
     ]
    }
   ],
   "source": [
    "# 1. Write a program that prompts the user to input a number and display if the number\n",
    "# is even or odd.\n",
    "\n",
    "number=int(input(\"Enter the number\"))\n",
    "\n",
    "if number % 2 == 0:\n",
    "    print(\"even\")\n",
    "else:\n",
    "    print(\"odd\")\n"
   ]
  },
  {
   "cell_type": "code",
   "execution_count": 31,
   "id": "4970459a-fff4-47de-964d-091e1aabdb56",
   "metadata": {},
   "outputs": [
    {
     "name": "stdin",
     "output_type": "stream",
     "text": [
      "Enter the age 15\n"
     ]
    },
    {
     "name": "stdout",
     "output_type": "stream",
     "text": [
      "not eligible\n"
     ]
    }
   ],
   "source": [
    "# 2. Write a Python program that takes an age as input and determines whether a person\n",
    "# is eligible to vote. If the age is 18 or above, print \"You are eligible to vote.\" Otherwise,\n",
    "# print \"You are not eligible to vote yet.\".\n",
    "\n",
    "age= float(input(\"Enter the age\"))\n",
    "\n",
    "if age >= 18 :\n",
    "    print(\"eligible\")\n",
    "else:\n",
    "    print(\"not eligible\")"
   ]
  },
  {
   "cell_type": "code",
   "execution_count": 47,
   "id": "3d280a1a-3666-497c-84af-9e8c828bd8cf",
   "metadata": {},
   "outputs": [
    {
     "name": "stdin",
     "output_type": "stream",
     "text": [
      "Enter the num1 15\n",
      "Enter the num2 14\n"
     ]
    },
    {
     "name": "stdout",
     "output_type": "stream",
     "text": [
      "The largest number is:15\n"
     ]
    }
   ],
   "source": [
    "# 3. Write a program that prompts the user to input two integers and outputs the largest.\n",
    "\n",
    "num1=int(input(\"Enter the num1\"))\n",
    "num2=int(input(\"Enter the num2\"))\n",
    "\n",
    "if num1 > num2:\n",
    "    number=num1\n",
    "else:\n",
    "    number=num2\n",
    "\n",
    "print(f\"The largest number is:{number}\")"
   ]
  },
  {
   "cell_type": "code",
   "execution_count": 67,
   "id": "25e9306f-ce2d-41da-ba17-dbbbe3cb9e34",
   "metadata": {},
   "outputs": [
    {
     "name": "stdin",
     "output_type": "stream",
     "text": [
      "Enter the number -25\n"
     ]
    },
    {
     "name": "stdout",
     "output_type": "stream",
     "text": [
      "negative\n"
     ]
    }
   ],
   "source": [
    "# 4. Write a program that prompts the user to enter a number and determines whether it\n",
    "# is positive, negative, or zero. The program should print \"Positive\" if the number is\n",
    "# greater than 0, \"Negative\" if the number is less than 0, and \"Zero\" if the number is 0.\n",
    "\n",
    "number = float(input(\"Enter the number\"))\n",
    "\n",
    "if number > 0:\n",
    "    pr='positive'\n",
    "elif number < 0:\n",
    "    pr='negative'\n",
    "else:\n",
    "    pr='zero'\n",
    "\n",
    "print(pr)"
   ]
  },
  {
   "cell_type": "code",
   "execution_count": 79,
   "id": "a638f2fd-c05f-4ffb-a40b-bbb9b3601ce8",
   "metadata": {},
   "outputs": [
    {
     "name": "stdin",
     "output_type": "stream",
     "text": [
      "Enter the age  60\n"
     ]
    },
    {
     "name": "stdout",
     "output_type": "stream",
     "text": [
      "Senior citizon\n"
     ]
    }
   ],
   "source": [
    "# 5. Write a program that prompts the user to enter their age and prints the\n",
    "# corresponding age group. The program should use the following age groups:\n",
    "# 0-12: Child\n",
    "# 13-19: Teenager\n",
    "# 20-59: Adult\n",
    "# 60 and above: Senior Citizen\n",
    "\n",
    "age=float(input(\"Enter the age \"))\n",
    "\n",
    "if age <= 12:\n",
    "    pr = \"child\"\n",
    "elif age <=19:\n",
    "    pr = \"Teenager\"\n",
    "elif age <= 59:\n",
    "    pr = \"Adult\"\n",
    "else:\n",
    "    pr = \"Senior citizon\"\n",
    "\n",
    "print(pr)"
   ]
  },
  {
   "cell_type": "code",
   "execution_count": 135,
   "id": "321ef85d-4fd4-4b7f-b807-bc710c67b162",
   "metadata": {},
   "outputs": [
    {
     "name": "stdin",
     "output_type": "stream",
     "text": [
      "Enter the number between 1 to 7: 7\n"
     ]
    },
    {
     "name": "stdout",
     "output_type": "stream",
     "text": [
      "The day is:saturday\n"
     ]
    }
   ],
   "source": [
    "# 6. Write a program that prompts the user to input a number from 1 to 7. The program\n",
    "# should display the corresponding day for the given number. For example, if the user\n",
    "# types 1, the output should be Sunday. If the user types 7, the output should be\n",
    "# Saturday. If the number is not between 1 to 7 user should get error message as shown\n",
    "# in sample output.\n",
    "\n",
    "number=int(input(\"Enter the number between 1 to 7:\"))\n",
    "\n",
    "days={1:\"sunday\",2:\"monday\", 3:\"tuesday\",4:\"wednesday\",5:\"thursday\",6:\"friday\",7:\"saturday\"}\n",
    "\n",
    "if 1 <= number <= 7:\n",
    "    print(f\"The day is:{days[number]}\")\n",
    "else:\n",
    "    print(f\"invalid number\")\n",
    "    \n",
    "# if number ==1 :\n",
    "#     pr=\"sunday\"\n",
    "# elif number == 2:\n",
    "#     pr = \"monday\"\n",
    "# elif number == 3:\n",
    "#     pr = \"tuesday\"\n",
    "# elif number == 4:\n",
    "#     pr = \"wednesday\"\n",
    "# elif number == 5:\n",
    "#     pr = \"thursday\"\n",
    "# elif number == 6:\n",
    "#     pr = \"friday\"\n",
    "# elif number == 7:\n",
    "#     pr = \"saturday\"\n",
    "# else:\n",
    "#     pr=\"invalid number\"\n",
    "\n",
    "# print(pr)"
   ]
  },
  {
   "cell_type": "code",
   "execution_count": 149,
   "id": "d8be947b-d3f4-47ba-a43f-af2aba1d97ac",
   "metadata": {},
   "outputs": [
    {
     "name": "stdin",
     "output_type": "stream",
     "text": [
      "Enter the weight(in kg) 62\n",
      "Enter the height(in metres) 1.70\n"
     ]
    },
    {
     "name": "stdout",
     "output_type": "stream",
     "text": [
      "normal\n"
     ]
    }
   ],
   "source": [
    "# 7. Write a program that prompts the user to enter their weight (in kilograms) and height\n",
    "# (in meters). The program should calculate the Body Mass Index (BMI) using the formula:\n",
    "# BMI = weight / (height * height). The program should then classify the BMI into one of\n",
    "# the following categories:\n",
    "\n",
    "# less than 18.5 - Underweight\n",
    "# BMI between 18.5 and 24.9 - Normal weight\n",
    "# BMI between 25 and 29.9 - Overweight\n",
    "# BMI 30 or greater - Obesity\n",
    "\n",
    "weight=float(input(\"Enter the weight(in kg)\"))\n",
    "height=float(input(\"Enter the height(in metres)\"))\n",
    "\n",
    "bmi = weight/ (height*height)\n",
    "\n",
    "if bmi < 18.5:\n",
    "    result=\"under weight\"\n",
    "elif bmi <= 24.9:\n",
    "    pr = \"normal\"\n",
    "elif bmi <= 29.9 :\n",
    "    result = \"over weight\"\n",
    "else:\n",
    "    result =\" obesity\"\n",
    "    \n",
    "print(pr)\n"
   ]
  },
  {
   "cell_type": "code",
   "execution_count": 167,
   "id": "10b57853-0744-40d8-a510-148ea6a0cfd8",
   "metadata": {},
   "outputs": [
    {
     "name": "stdin",
     "output_type": "stream",
     "text": [
      "Enter the sub1 marks 95\n",
      "Enter the sub2 marks 95\n",
      "Enter the sub3 marks 95\n"
     ]
    },
    {
     "name": "stdout",
     "output_type": "stream",
     "text": [
      "percentage:95.0\n",
      "grade:A\n"
     ]
    }
   ],
   "source": [
    "# 8. The marks obtained by a student in 3 different subjects are input by the user. Your\n",
    "# program should calculate the average of subjects and display the grade. The student\n",
    "# gets a grade as per the following rules:\n",
    "# Average Grade\n",
    "# 90-100 A\n",
    "# 80-89 B\n",
    "# 70-79 C\n",
    "# 60-69 D\n",
    "# 0-59 F\n",
    "\n",
    "sub1= float(input(\"Enter the sub1 marks\"))\n",
    "sub2= float(input(\"Enter the sub2 marks\"))\n",
    "sub3= float(input(\"Enter the sub3 marks\"))\n",
    "\n",
    "percentage =(sub1 + sub2 + sub3)/3\n",
    "print(f\"percentage:{percentage}\")\n",
    "\n",
    "if percentage >= 90:\n",
    "    result= \"A\"\n",
    "elif percentage >= 80:\n",
    "    result= \"B\"\n",
    "elif percentage >= 70:\n",
    "    result= \"C\"\n",
    "elif percentage >= 60:\n",
    "    result= \"D\"\n",
    "else:\n",
    "    result= \"F\"\n",
    "\n",
    "print(f\"grade:{result}\")"
   ]
  },
  {
   "cell_type": "code",
   "execution_count": 171,
   "id": "dfd8483d-0b19-47b0-91fc-f00c7ae2ac17",
   "metadata": {},
   "outputs": [
    {
     "name": "stdin",
     "output_type": "stream",
     "text": [
      "Enter the number1 5\n",
      "Enter the number2 8\n",
      "Enter the number3 1\n"
     ]
    },
    {
     "name": "stdout",
     "output_type": "stream",
     "text": [
      "The numbers in ascending order are:[1.0, 5.0, 8.0]\n"
     ]
    }
   ],
   "source": [
    "# 10. Write a program that prompts the user to enter three numbers and sorts them in\n",
    "# ascending order. The program should print the sorted numbers.\n",
    "\n",
    "num1 =float(input(\"Enter the number1\"))\n",
    "num2 =float(input(\"Enter the number2\"))\n",
    "num3 =float(input(\"Enter the number3\"))\n",
    "\n",
    "numbers=[num1, num2, num3]\n",
    "numbers.sort()\n",
    "\n",
    "print(f\"The numbers in ascending order are:{numbers}\")"
   ]
  },
  {
   "cell_type": "code",
   "execution_count": 181,
   "id": "94d9703c-252b-4e57-845c-c98c95529f0d",
   "metadata": {},
   "outputs": [
    {
     "name": "stdin",
     "output_type": "stream",
     "text": [
      "Enter the number1 14\n",
      "Enter the number2 15\n",
      "Enter the number3 12\n"
     ]
    },
    {
     "name": "stdout",
     "output_type": "stream",
     "text": [
      "The largest number is: 15.0\n"
     ]
    }
   ],
   "source": [
    "# 11. Write a program that prompts the user to input three integers and outputs the\n",
    "# largest.\n",
    "\n",
    "num1=int(input(\"Enter the number1\"))\n",
    "num2=int(input(\"Enter the number2\"))\n",
    "num3=int(input(\"Enter the number3\"))\n",
    "\n",
    "largest= max (num1, num2,num3)\n",
    "print(f\"The largest number is: {largest}\")\n",
    "\n",
    "# if num1 > num2 and num3:\n",
    "#     result=num1\n",
    "# elif num2 > num1 and num3:\n",
    "#     result=num2\n",
    "# else:\n",
    "#     result= num3\n",
    "\n",
    "# print(result)"
   ]
  },
  {
   "cell_type": "code",
   "execution_count": 211,
   "id": "77b5f80d-d652-496f-b30d-daed2b565a70",
   "metadata": {},
   "outputs": [
    {
     "name": "stdin",
     "output_type": "stream",
     "text": [
      "Enter the any letter (A to Z) A\n"
     ]
    },
    {
     "name": "stdout",
     "output_type": "stream",
     "text": [
      "vowel\n"
     ]
    }
   ],
   "source": [
    "# 12. Write a program that prompts the user to input a character and determine the\n",
    "# character is vowel or consonant.\n",
    "\n",
    "letter= input(\"Enter the any letter (A to Z)\").lower()\n",
    "\n",
    "if letter in \"aeiou\":\n",
    "    print(\"vowel\")\n",
    "else:\n",
    "    print(\"constant\")\n",
    "              "
   ]
  },
  {
   "cell_type": "code",
   "execution_count": 201,
   "id": "b64be289-f6f5-46e0-b173-c1e58bdeec22",
   "metadata": {},
   "outputs": [
    {
     "name": "stdin",
     "output_type": "stream",
     "text": [
      "Enter the year 2028\n"
     ]
    },
    {
     "name": "stdout",
     "output_type": "stream",
     "text": [
      "leap year\n"
     ]
    }
   ],
   "source": [
    "# 13. Write a program that prompts the user to input a year and determine whether the\n",
    "# year is a leap year or not.\n",
    "\n",
    "# Leap Years are any year that can be evenly divided by 4. A year that is evenly divisible by\n",
    "# 100 is a leap year only if it is also evenly divisible by 400. Example:\n",
    "\n",
    "# 1992 Leap Year\n",
    "# 2000 Leap Year\n",
    "# 1900 NOT a Leap Year\n",
    "# 1995 NOT a Leap Year\n",
    "\n",
    "year=int(input(\"Enter the year\"))\n",
    "\n",
    "if year % 4 ==0 :\n",
    "    print(\"leap year\")\n",
    "else:\n",
    "    print(\"not a leap year\")\n"
   ]
  },
  {
   "cell_type": "code",
   "execution_count": 231,
   "id": "4a35e54b-b842-4568-8c4b-9ddf20e60aa8",
   "metadata": {},
   "outputs": [
    {
     "name": "stdin",
     "output_type": "stream",
     "text": [
      "Enter the number of calls:  115\n"
     ]
    },
    {
     "name": "stdout",
     "output_type": "stream",
     "text": [
      "The total telephone bill is: Rs. 209.00\n"
     ]
    }
   ],
   "source": [
    "# 14. Write a program that prompts the user to input number of calls and calculate the\n",
    "# monthly telephone bills as per the following rule:\n",
    "# Minimum Rs. 200 for up to 100 calls.\n",
    "# Plus Rs. 0.60 per call for next 50 calls.\n",
    "# Plus Rs. 0.50 per call for next 50 calls.\n",
    "# Plus Rs. 0.40 per call for any call beyond 200 calls.\n",
    "\n",
    "\n",
    "calls = int(input(\"Enter the number of calls: \"))\n",
    "\n",
    "bill = 200\n",
    "\n",
    "if calls > 100:\n",
    "    if calls <= 150:\n",
    "        bill += (calls - 100) * 0.60\n",
    "    elif calls <= 200:\n",
    "        bill += 50 * 0.60 + (calls - 150) * 0.50\n",
    "    else:\n",
    "        bill += 50 * 0.60 + 50 * 0.50 + (calls - 200) * 0.40\n",
    "\n",
    "print(f\"The total telephone bill is: Rs. {bill:.2f}\")\n"
   ]
  },
  {
   "cell_type": "code",
   "execution_count": 3,
   "id": "6ca07d6e-8c5e-4872-9a75-442cec03ac24",
   "metadata": {},
   "outputs": [
    {
     "name": "stdout",
     "output_type": "stream",
     "text": [
      "complete\n"
     ]
    }
   ],
   "source": [
    "print(\"complete\")"
   ]
  },
  {
   "cell_type": "code",
   "execution_count": null,
   "id": "d117d48a-092c-41be-91a5-342e60840752",
   "metadata": {},
   "outputs": [],
   "source": []
  }
 ],
 "metadata": {
  "kernelspec": {
   "display_name": "Python 3 (ipykernel)",
   "language": "python",
   "name": "python3"
  },
  "language_info": {
   "codemirror_mode": {
    "name": "ipython",
    "version": 3
   },
   "file_extension": ".py",
   "mimetype": "text/x-python",
   "name": "python",
   "nbconvert_exporter": "python",
   "pygments_lexer": "ipython3",
   "version": "3.11.4"
  }
 },
 "nbformat": 4,
 "nbformat_minor": 5
}
