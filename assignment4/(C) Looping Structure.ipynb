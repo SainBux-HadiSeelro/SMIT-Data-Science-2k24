{
 "cells": [
  {
   "cell_type": "code",
   "execution_count": 5,
   "id": "1345d3c0-e925-4ba8-ad28-575fd918f30d",
   "metadata": {},
   "outputs": [
    {
     "name": "stdout",
     "output_type": "stream",
     "text": [
      "(C)   Looping Structures\n"
     ]
    }
   ],
   "source": [
    "print(\"(C)   Looping Structures\")"
   ]
  },
  {
   "cell_type": "code",
   "execution_count": 5,
   "id": "029de5bd-7a6f-4949-bc92-c1df3e8c0d3d",
   "metadata": {},
   "outputs": [
    {
     "name": "stdout",
     "output_type": "stream",
     "text": [
      "1\n",
      "2\n",
      "3\n",
      "4\n",
      "5\n",
      "6\n",
      "7\n",
      "8\n",
      "9\n",
      "10\n"
     ]
    }
   ],
   "source": [
    "# 1. Write a Python program to print the numbers from 1 to 10 using a for loop.\n",
    "\n",
    "for a in range (1,11):\n",
    "    print(a)"
   ]
  },
  {
   "cell_type": "code",
   "execution_count": 17,
   "id": "b39dcd19-30b8-4c0d-aa1d-79cddffec2b9",
   "metadata": {},
   "outputs": [
    {
     "name": "stdout",
     "output_type": "stream",
     "text": [
      "19\n",
      "18\n",
      "17\n",
      "16\n",
      "15\n",
      "14\n",
      "13\n",
      "12\n",
      "11\n",
      "10\n",
      "9\n",
      "8\n",
      "7\n",
      "6\n",
      "5\n",
      "4\n",
      "3\n",
      "2\n",
      "1\n",
      "0\n"
     ]
    }
   ],
   "source": [
    "# 2. Write a Python program to print the numbers from 20 to 1 using a while loop.\n",
    "count = 20 \n",
    "while count >= 1 :\n",
    "    count -=1\n",
    "    print(count)\n",
    "   \n"
   ]
  },
  {
   "cell_type": "code",
   "execution_count": 19,
   "id": "6496f8f6-98ad-49d5-9280-fe88e9c375b1",
   "metadata": {},
   "outputs": [
    {
     "name": "stdout",
     "output_type": "stream",
     "text": [
      "2\n",
      "4\n",
      "6\n",
      "8\n",
      "10\n"
     ]
    }
   ],
   "source": [
    "# 3. Write a program to print even numbers from 1 to 10.\n",
    "\n",
    "for number in range(1, 11):\n",
    "    if number % 2 == 0: \n",
    "        print(number)\n"
   ]
  },
  {
   "cell_type": "code",
   "execution_count": 25,
   "id": "0375a0b0-31ca-4352-9382-b60b4868d01e",
   "metadata": {},
   "outputs": [
    {
     "name": "stdin",
     "output_type": "stream",
     "text": [
      "Enter the number you want to run program 5\n"
     ]
    },
    {
     "name": "stdout",
     "output_type": "stream",
     "text": [
      "1\n",
      "2\n",
      "3\n",
      "4\n",
      "5\n"
     ]
    }
   ],
   "source": [
    "# 4. Write a program that prompts the user to enter a number n and prints all the\n",
    "# numbers from 1 to n.\n",
    "\n",
    "number = int (input(\"Enter the number you want to run program\"))\n",
    "\n",
    "for number in range (1,number +1):\n",
    "    print(number)"
   ]
  },
  {
   "cell_type": "code",
   "execution_count": 49,
   "id": "0c4050f0-06af-4587-8ccc-173198891621",
   "metadata": {},
   "outputs": [
    {
     "name": "stdin",
     "output_type": "stream",
     "text": [
      "Enter the number untill you want odd numbers 21\n"
     ]
    },
    {
     "name": "stdout",
     "output_type": "stream",
     "text": [
      "1\n",
      "3\n",
      "5\n",
      "7\n",
      "9\n",
      "11\n",
      "13\n",
      "15\n",
      "17\n",
      "19\n",
      "21\n"
     ]
    }
   ],
   "source": [
    "# 5. Write a program that prompts the user to enter a number n, and then prints all the\n",
    "# odd numbers between 1 and n.\n",
    "\n",
    "number = int(input(\"Enter the number untill you want odd numbers\"))\n",
    "\n",
    "for number in range (number + 1):\n",
    "    if number % 2 !=0:\n",
    "        print(number)\n",
    "    "
   ]
  },
  {
   "cell_type": "code",
   "execution_count": 55,
   "id": "5658e9b0-586f-452c-91aa-c0e4d67a9577",
   "metadata": {},
   "outputs": [
    {
     "name": "stdout",
     "output_type": "stream",
     "text": [
      "Happy birthday\n",
      "Happy birthday\n",
      "Happy birthday\n",
      "Happy birthday\n",
      "Happy birthday\n"
     ]
    }
   ],
   "source": [
    "# 6. Write a program that prints 'Happy Birthday!' five times on screen\n",
    "\n",
    "\n",
    "\n",
    "for i in range (5):\n",
    "    print(\"Happy birthday\")"
   ]
  },
  {
   "cell_type": "code",
   "execution_count": 3,
   "id": "d63c2fff-2d5c-459f-bc3a-9563fb3cdba2",
   "metadata": {},
   "outputs": [
    {
     "name": "stdin",
     "output_type": "stream",
     "text": [
      "Enter the number 6\n"
     ]
    },
    {
     "name": "stdout",
     "output_type": "stream",
     "text": [
      "The first 6 terms of the series are:\n",
      "1 4 9 16 25 "
     ]
    }
   ],
   "source": [
    "# 7. Write a program that takes a number n as input from the user and generates the first\n",
    "# n terms of the series formed by squaring the natural numbers.\n",
    "# Sample output\n",
    "# Enter a number: 6\n",
    "# The first 6 terms of the series are:\n",
    "# 1 4 9 16 25 36\n",
    "\n",
    "number = int(input(\"Enter the number\"))\n",
    "\n",
    "print(f\"The first {number} terms of the series are:\")\n",
    "\n",
    "for number in range (1,number, +1):\n",
    "    print(number**2, end=\" \")\n"
   ]
  },
  {
   "cell_type": "code",
   "execution_count": 17,
   "id": "7f16fefc-b49f-4d95-8668-8f48f4ffdc53",
   "metadata": {},
   "outputs": [
    {
     "name": "stdin",
     "output_type": "stream",
     "text": [
      "Enter the table number 6\n"
     ]
    },
    {
     "name": "stdout",
     "output_type": "stream",
     "text": [
      "Multiplication table for 6:\n",
      "6 x 1 = 6\n",
      "6 x 2 = 12\n",
      "6 x 3 = 18\n",
      "6 x 4 = 24\n",
      "6 x 5 = 30\n",
      "6 x 6 = 36\n",
      "6 x 7 = 42\n",
      "6 x 8 = 48\n",
      "6 x 9 = 54\n",
      "6 x 10 = 60\n"
     ]
    }
   ],
   "source": [
    "# 8. Write a program that prompts the user to input a number and prints its multiplication\n",
    "# table.\n",
    "\n",
    "n=int(input(\"Enter the table number\"))\n",
    "print(f\"Multiplication table for {number}:\")\n",
    "for i in range (1,11):\n",
    "    print(f\"{n} x {i} = {n * i}\")"
   ]
  },
  {
   "cell_type": "code",
   "execution_count": 19,
   "id": "c0065f84-c5f9-4894-9f19-bca89b24dd6d",
   "metadata": {},
   "outputs": [
    {
     "name": "stdout",
     "output_type": "stream",
     "text": [
      "The first 8 terms of the arithmetic progression are:\n",
      "3 7 11 15 19 23 27 31 "
     ]
    }
   ],
   "source": [
    "# 9. Write a Python program to print the first 8 terms of an arithmetic progression starting\n",
    "# with 3 and having a common difference of 4.\n",
    "# The program should output the following sequence:\n",
    "# 3 7 11 15 19 23 27 31\n",
    "\n",
    "start = 3\n",
    "difference = 4\n",
    "\n",
    "print(\"The first 8 terms of the arithmetic progression are:\")\n",
    "for i in range(8):\n",
    "    term = start + i * difference\n",
    "    print(term, end=\" \")\n"
   ]
  },
  {
   "cell_type": "code",
   "execution_count": 25,
   "id": "034c5991-7bd4-41de-bc0f-321b23f20a20",
   "metadata": {},
   "outputs": [
    {
     "name": "stdout",
     "output_type": "stream",
     "text": [
      "The first 6 terms of the geometric sequence are:\n",
      "2 6 18 54 162 486 "
     ]
    }
   ],
   "source": [
    "# 10. Write a Python program to print the first 6 terms of a geometric sequence starting\n",
    "# with 2 and having a common ratio of 3.\n",
    "# The program should output the following sequence:\n",
    "# 2 6 18 54 162 486\n",
    "\n",
    "start = 2\n",
    "ratio = 3\n",
    "\n",
    "print(\"The first 6 terms of the geometric sequence are:\")\n",
    "for i in range(6):\n",
    "    term = start * (ratio ** i)\n",
    "    print(term, end=\" \")"
   ]
  },
  {
   "cell_type": "code",
   "execution_count": 29,
   "id": "5767b88c-f9e1-4bc0-a72f-aef26b158c6b",
   "metadata": {},
   "outputs": [
    {
     "name": "stdin",
     "output_type": "stream",
     "text": [
      "Enter a positive integer:  5\n"
     ]
    },
    {
     "name": "stdout",
     "output_type": "stream",
     "text": [
      "The sum of all integers from 1 to 5 is: 15\n"
     ]
    }
   ],
   "source": [
    "# 11. Write a program that asks the user for a positive integer value. The program should\n",
    "# calculate the sum of all the integers from 1 up to the number entered. For example, if\n",
    "# the user enters 20, the loop will find the sum of 1, 2, 3, 4, ... 20.\n",
    "\n",
    "n = int(input(\"Enter a positive integer: \"))\n",
    "\n",
    "sum_of_numbers = 0\n",
    "\n",
    "for i in range(1, n + 1):\n",
    "    sum_of_numbers += i\n",
    "\n",
    "print(f\"The sum of all integers from 1 to {n} is: {sum_of_numbers}\")\n"
   ]
  },
  {
   "cell_type": "code",
   "execution_count": 35,
   "id": "6199ef45-08da-44d7-ae54-5730f8a9cc3a",
   "metadata": {},
   "outputs": [
    {
     "name": "stdin",
     "output_type": "stream",
     "text": [
      "Enter a positive integer:  7\n"
     ]
    },
    {
     "name": "stdout",
     "output_type": "stream",
     "text": [
      "The sum of reciprocals from 1 to 7 is: 2.59\n"
     ]
    }
   ],
   "source": [
    "# 12. write a program that takes a positive integer N as input and calculates the sum of\n",
    "# the reciprocals of all numbers from 1 up to N. The program should display the final sum.\n",
    "\n",
    "# Output of the program should be like:\n",
    "# Enter a positive integer: 5\n",
    "# The sum of reciprocals from 1 to 5 is: 2.28\n",
    "\n",
    "\n",
    "N = int(input(\"Enter a positive integer: \"))\n",
    "\n",
    "sum_of_reciprocals = 0.0\n",
    "\n",
    "for i in range(1, N + 1):\n",
    "    sum_of_reciprocals += 1 / i\n",
    "\n",
    "print(f\"The sum of reciprocals from 1 to {N} is: {sum_of_reciprocals:.2f}\")"
   ]
  },
  {
   "cell_type": "code",
   "execution_count": 37,
   "id": "9f95b4a1-1fea-47a3-b280-2fe4f8f8df5f",
   "metadata": {},
   "outputs": [
    {
     "name": "stdin",
     "output_type": "stream",
     "text": [
      "Enter a number:  5\n",
      "Enter a number:  5\n",
      "Enter a number:  5\n",
      "Enter a number:  5\n",
      "Enter a number:  5\n"
     ]
    },
    {
     "name": "stdout",
     "output_type": "stream",
     "text": [
      "The final running total is: 25\n"
     ]
    }
   ],
   "source": [
    "\n",
    "# 13. Write a program that prompts the user to enter a number and repeats this process 5\n",
    "# times. The program should accumulate the numbers entered and then display the final\n",
    "# running total.\n",
    "# Sample Output:\n",
    "# Enter a number: 10\n",
    "# Enter a number: 15\n",
    "# Enter a number: 35\n",
    "# Enter a number: 40\n",
    "# Enter a number: 50\n",
    "# The final running total is: 150\n",
    "\n",
    "running_total = 0\n",
    "\n",
    "for i in range(5):\n",
    "    number = int(input(\"Enter a number: \"))\n",
    "    \n",
    "    running_total += number\n",
    "\n",
    "print(f\"The final running total is: {running_total}\")\n"
   ]
  },
  {
   "cell_type": "code",
   "execution_count": 39,
   "id": "366757d1-7b87-4772-8e23-b96d5d8ccd6c",
   "metadata": {},
   "outputs": [
    {
     "name": "stdin",
     "output_type": "stream",
     "text": [
      "Enter a positive integer:  5\n"
     ]
    },
    {
     "name": "stdout",
     "output_type": "stream",
     "text": [
      "The factorial of 5 is 120.\n"
     ]
    }
   ],
   "source": [
    "# 14. Write a program that prompts the user to enter a positive integer and calculates its\n",
    "# factorial. The factorial of a positive integer 'n' is denoted as 'n!' and is calculated by\n",
    "# multiplying all the integers from 1 to 'n' together. For example, the factorial of 5\n",
    "# (denoted as 5!) is calculated as 1 x 2 x 3 x 4 x 5.\n",
    "# The program should display the factorial value if the input is a positive number, or\n",
    "# display a message stating that the factorial does not exist for negative numbers.\n",
    "# Additionally, for an input of zero, the program should output that the factorial of 0 is 1.\n",
    "\n",
    "def calculate_factorial(n):\n",
    "    if n == 0:\n",
    "        return 1 \n",
    "    factorial = 1\n",
    "    for i in range(1, n + 1):\n",
    "        factorial *= i\n",
    "    return factorial\n",
    "\n",
    "number = int(input(\"Enter a positive integer: \"))\n",
    "\n",
    "if number < 0:\n",
    "    print(\"The factorial does not exist for negative numbers.\")\n",
    "elif number == 0:\n",
    "    print(\"The factorial of 0 is 1.\")\n",
    "else:\n",
    "    result = calculate_factorial(number)\n",
    "    print(f\"The factorial of {number} is {result}.\")"
   ]
  },
  {
   "cell_type": "code",
   "execution_count": 11,
   "id": "fdaf83a6-dce8-489c-a0d0-c51e2695a2c9",
   "metadata": {},
   "outputs": [
    {
     "name": "stdin",
     "output_type": "stream",
     "text": [
      "Enter the base number:  2\n",
      "Enter the exponent:  4\n"
     ]
    },
    {
     "name": "stdout",
     "output_type": "stream",
     "text": [
      "The result of 2.0 raised to the power of 4 is 16.0.\n"
     ]
    }
   ],
   "source": [
    "# 15. Write a Python program that prompts the user to enter a base number and an\n",
    "# exponent, and then calculates the power of the base to the exponent. The program\n",
    "# should not use the exponentiation operator (**) or the math.pow() function. The\n",
    "# program should handle both positive and negative exponents.\n",
    "\n",
    "num = float(input(\"Enter the base number: \"))\n",
    "exponent = int(input(\"Enter the exponent: \"))\n",
    "\n",
    "def calculate_power(num, exponent):\n",
    "    result = 1\n",
    "    if exponent > 0:\n",
    "        for i in range(exponent):\n",
    "            result *= num\n",
    "    elif exponent < 0:\n",
    "        for i in range(abs(exponent)):\n",
    "            result *= num\n",
    "        result = 1 / result \n",
    "    return result\n",
    "\n",
    "\n",
    "\n",
    "result = calculate_power(num, exponent)\n",
    "print(f\"The result of {num} raised to the power of {exponent} is {result}.\")\n"
   ]
  },
  {
   "cell_type": "code",
   "execution_count": 21,
   "id": "adf336f0-9a03-4aa6-a2ed-b04f17d8ef66",
   "metadata": {},
   "outputs": [
    {
     "name": "stdin",
     "output_type": "stream",
     "text": [
      "ENter num1 3\n",
      "ENter exponant 3\n"
     ]
    },
    {
     "data": {
      "text/plain": [
       "27.0"
      ]
     },
     "execution_count": 21,
     "metadata": {},
     "output_type": "execute_result"
    }
   ],
   "source": [
    "num1=float(input(\"ENter num1\"))\n",
    "expo=int(input(\"ENter exponant\"))\n",
    "\n",
    "def calculate (num1,expo):\n",
    "    s=1\n",
    "    for a in range (1,expo+1):\n",
    "        s =s*num1\n",
    "    return s\n",
    "\n",
    "calculate(num1,expo)"
   ]
  },
  {
   "cell_type": "code",
   "execution_count": null,
   "id": "9b935c5c-de50-4da4-b5b8-03f11ac2364e",
   "metadata": {},
   "outputs": [],
   "source": []
  }
 ],
 "metadata": {
  "kernelspec": {
   "display_name": "Python 3 (ipykernel)",
   "language": "python",
   "name": "python3"
  },
  "language_info": {
   "codemirror_mode": {
    "name": "ipython",
    "version": 3
   },
   "file_extension": ".py",
   "mimetype": "text/x-python",
   "name": "python",
   "nbconvert_exporter": "python",
   "pygments_lexer": "ipython3",
   "version": "3.11.4"
  }
 },
 "nbformat": 4,
 "nbformat_minor": 5
}
