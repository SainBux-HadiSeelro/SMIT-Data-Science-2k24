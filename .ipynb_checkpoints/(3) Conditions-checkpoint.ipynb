{
 "cells": [
  {
   "cell_type": "code",
   "execution_count": 9,
   "id": "b60954b9-88bd-40ed-bfb7-67d239aed675",
   "metadata": {},
   "outputs": [
    {
     "name": "stdin",
     "output_type": "stream",
     "text": [
      "Enter the total amount  200\n"
     ]
    },
    {
     "name": "stdout",
     "output_type": "stream",
     "text": [
      "your discount is 20.0 now you can pay after discount 180.0\n"
     ]
    }
   ],
   "source": [
    "# 1)Check Discount Eligibility\n",
    "# Write a program to check if a customer is eligible for a discount. \n",
    "# If the total purchase is more than $100, apply a 10% discount and display the final price. Otherwise, display the total price as it is.\n",
    "\n",
    "\n",
    "total_amount= float(input(\"Enter the total amount \"))\n",
    "discount= total_amount*10/100\n",
    "if total_amount >= 100:\n",
    "    print(f\"your discount is {discount} now you can pay after discount {total_amount - discount}\")\n",
    "else:\n",
    "    print(f\"total amount: {total_amount}\")\n"
   ]
  },
  {
   "cell_type": "code",
   "execution_count": 31,
   "id": "ca1c4e80-d838-41da-b026-5a4c3c5fa420",
   "metadata": {},
   "outputs": [
    {
     "name": "stdin",
     "output_type": "stream",
     "text": [
      "Enter the items number 7\n",
      "Enter the total price of items 7000\n"
     ]
    },
    {
     "name": "stdout",
     "output_type": "stream",
     "text": [
      "your discount is 1050.0 now you can pay after discount: 5950.0\n"
     ]
    }
   ],
   "source": [
    "# 2)Calculate Bulk Discount\n",
    "# If a customer buys more than 5 items, apply a 15% discount on the total price. \n",
    "# Otherwise, no discount is applied. Display the total price.\n",
    "\n",
    "items=float(input(\"Enter the items number\"))\n",
    "total_price=float(input(\"Enter the total price of items\"))\n",
    "discount=total_price*15/100\n",
    "if items >= 5:\n",
    "    print(f\"your discount is {discount} now you can pay after discount: {total_price - discount}\")\n",
    "else:\n",
    "    print(f\"you are not eligible for discount, your total price is: {total_price} \")"
   ]
  },
  {
   "cell_type": "code",
   "execution_count": 63,
   "id": "f7c6cf53-a9f0-4cc3-bcff-566ac649d659",
   "metadata": {},
   "outputs": [
    {
     "name": "stdin",
     "output_type": "stream",
     "text": [
      "are you a member or not?  Yes/No: no\n",
      "Enter the total amount 600\n"
     ]
    },
    {
     "name": "stdout",
     "output_type": "stream",
     "text": [
      "you are not a member, your discount is 5% : Rs:30.0 now you can pay after discount 570.0\n"
     ]
    }
   ],
   "source": [
    "# 3)Membership Discount\n",
    "# Check if the customer is a member (is_member = True).\n",
    "# Members get a 20% discount; non-members get a 5% discount. Calculate and print the discounted price.\n",
    "\n",
    "membership=input(\"are you a member or not?  (Yes/No):\").strip().lower() == \"yes\"\n",
    "total_price= float(input(\"Enter the total amount\"))\n",
    "if membership :\n",
    "    discount= total_price*20/100\n",
    "    print(f\"you are eligible for 20% discount. Your discount is: {discount} now yo can pay after dicount {total_price - discount}\")\n",
    "else:\n",
    "    discount= total_price *5/100\n",
    "    print(f\"you are not a member, your discount is 5% : Rs:{discount} now you can pay after discount {total_price - discount}\")"
   ]
  },
  {
   "cell_type": "code",
   "execution_count": 73,
   "id": "6385832b-554b-4be0-8a41-ea10c7bbb839",
   "metadata": {},
   "outputs": [
    {
     "name": "stdin",
     "output_type": "stream",
     "text": [
      "today is holiday? true/false ll\n",
      "Enter the total price 333\n"
     ]
    },
    {
     "name": "stdout",
     "output_type": "stream",
     "text": [
      "today is not a a holiday, today 10% discount. your discount is 33.3 now you can pay after discount: 299.7\n"
     ]
    }
   ],
   "source": [
    "# 4)Seasonal Sale\n",
    "# If today is a holiday (is_holiday = True), apply a 25% discount;\n",
    "# otherwise, apply a 10% discount. Calculate the price after discount.\n",
    "\n",
    "day= input(\"today is holiday? (true/false)\").strip().lower()==\"true\"\n",
    "total_price = float(input(f\"Enter the total price\"))\n",
    "\n",
    "if day :\n",
    "    discount= total_price*25/100\n",
    "    print(f\"today is holiday, today 25% discount. your discount is: {discount} now you can pay after discount: {total_price-discount}\")\n",
    "else:\n",
    "    discount=total_price*10/100\n",
    "    print(f\"today is not a a holiday, today 10% discount. your discount is {discount} now you can pay after discount: {total_price-discount}\")"
   ]
  },
  {
   "cell_type": "code",
   "execution_count": 143,
   "id": "c5f071e7-fe9d-46e1-9622-a28bc2e033f4",
   "metadata": {},
   "outputs": [
    {
     "name": "stdin",
     "output_type": "stream",
     "text": [
      "Enter the numbers of items 1\n"
     ]
    },
    {
     "name": "stdout",
     "output_type": "stream",
     "text": [
      "you can only pay for 1\n"
     ]
    }
   ],
   "source": [
    "# 5)Buy-One-Get-One-Free\n",
    "# If a customer buys an even number of items, they get half of them for free.\n",
    "# Otherwise, they pay for all. Calculate the number of items the customer has to pay for.\n",
    "\n",
    "items= int(input(\"Enter the numbers of items\"))\n",
    "if items % 2 == 0:\n",
    "    half= items //2\n",
    "    print(f\"you can only pay for {half} items\")\n",
    "else:\n",
    "    half= items //2\n",
    "    one = 1\n",
    "    print(f\"you can only pay for {half + one}\")"
   ]
  },
  {
   "cell_type": "code",
   "execution_count": 173,
   "id": "29ceced9-ba4c-4800-b086-28e85c4eb62b",
   "metadata": {},
   "outputs": [
    {
     "name": "stdin",
     "output_type": "stream",
     "text": [
      "Enter the sales tax 200\n"
     ]
    },
    {
     "name": "stdout",
     "output_type": "stream",
     "text": [
      "your standard tax is 8%: your tax is: Rs:16.0 now you can pay 216.0 \n"
     ]
    }
   ],
   "source": [
    "# 6)Sales Tax\n",
    "# If the price of an item is greater than $500, apply a luxury tax of 15%.\n",
    "# Otherwise, apply a standard tax of 8%. Display the total price after tax.\n",
    "\n",
    "sales_tax=float(input(\"Enter the sales tax\"))\n",
    "\n",
    "if sales_tax >=500 :\n",
    "    \n",
    "    luxury_tax = sales_tax*15/100\n",
    "    print(f\"your luxury tax is 15%: your tax is: Rs:{luxury_tax} now you can pay {sales_tax + luxury_tax}\")\n",
    "else:\n",
    "    standard= sales_tax*8/100\n",
    "    print(f\"your standard tax is 8%: your tax is: Rs:{standard} now you can pay {sales_tax + standard} \")"
   ]
  },
  {
   "cell_type": "code",
   "execution_count": 189,
   "id": "e949de30-a512-4c56-8be3-22ae56b13d05",
   "metadata": {},
   "outputs": [
    {
     "name": "stdin",
     "output_type": "stream",
     "text": [
      "Enter the sales tax 55000\n"
     ]
    },
    {
     "name": "stdout",
     "output_type": "stream",
     "text": [
      "your annual tax is 20%: your tax is: Rs:11000.0  you can pay 11000.0\n"
     ]
    }
   ],
   "source": [
    "# 7)Income Tax\n",
    "# If a person's annual income is above $50,000, they pay 20% tax.\n",
    "# Otherwise, they pay 10%. Calculate and display the tax amount.\n",
    "\n",
    "annual_income=float(input(\"Enter the sales tax\"))\n",
    "\n",
    "if annual_income >=50000 :\n",
    "    \n",
    "    annual_tax = annual_income*20/100\n",
    "    print(f\"your annual tax is 20%: your tax is: Rs:{annual_tax}  you can pay { annual_tax}\")\n",
    "else:\n",
    "    standard= annual_income*10/100\n",
    "    print(f\"your standard tax is 10%: your annual tax is: Rs:{standard} you can pay the {standard}\")"
   ]
  },
  {
   "cell_type": "code",
   "execution_count": 256,
   "id": "2f63811e-fe73-479a-863d-f0dd52c72d60",
   "metadata": {},
   "outputs": [
    {
     "name": "stdin",
     "output_type": "stream",
     "text": [
      "Enter the income  32000\n"
     ]
    },
    {
     "name": "stdout",
     "output_type": "stream",
     "text": [
      "you fall into medium tax bracket\n"
     ]
    }
   ],
   "source": [
    "#  8)Tax Bracket\n",
    "# Write a program to categorize a person into tax brackets:\n",
    "#         ◦ Income < $30,000: \"Low Tax\"\n",
    "#         ◦ $30,000 ≤ Income < $100,000: \"Medium Tax\"\n",
    "#         ◦ Income ≥ $100,000: \"High Tax\"\n",
    "\n",
    "income= float(input(\"Enter the income \"))\n",
    "\n",
    "if income <= 30000:\n",
    "    tax_bracket =\"low tax\"\n",
    "elif  income <100000:\n",
    "    tax_bracket= \"medium tax\"\n",
    "else:\n",
    "    tax_bracket =\"high tax \"\n",
    "\n",
    "print(f\"you fall into {tax_bracket} bracket\")\n",
    "\n",
    "\n",
    "\n"
   ]
  },
  {
   "cell_type": "code",
   "execution_count": 254,
   "id": "3e7f8459-60ee-4194-aece-f392ca1aa37e",
   "metadata": {},
   "outputs": [
    {
     "name": "stdin",
     "output_type": "stream",
     "text": [
      "Enter the price of the item: $ 66\n",
      "Is the item essential? (yes/no):  no\n"
     ]
    },
    {
     "name": "stdout",
     "output_type": "stream",
     "text": [
      "The final price after VAT is: 73.92\n"
     ]
    }
   ],
   "source": [
    "# 9)VAT Calculation\n",
    "# If the item is marked as essential (is_essential = True), apply a VAT of 5%. \n",
    "# Otherwise, apply a VAT of 12%. Display the final price.\n",
    "\n",
    "item_price = float(input(\"Enter the price of the item: $\"))\n",
    "is_essential = input(\"Is the item essential? (yes/no): \").strip().lower() == \"yes\"\n",
    "\n",
    "if is_essential:\n",
    "    vat = item_price *5/100\n",
    "else:\n",
    "    vat = item_price*12/100\n",
    "\n",
    "final_price = item_price + vat\n",
    "\n",
    "print(f\"The final price after VAT is: {final_price:.2f}\")\n"
   ]
  },
  {
   "cell_type": "code",
   "execution_count": 9,
   "id": "5b394f42-cdb0-4c5f-a04f-d7264ddb3705",
   "metadata": {},
   "outputs": [
    {
     "name": "stdin",
     "output_type": "stream",
     "text": [
      "today is tax free day ?  (yes/not) kk\n",
      "Enter the price 500\n"
     ]
    },
    {
     "name": "stdout",
     "output_type": "stream",
     "text": [
      "toay is 7% tax day. your tax is:35.0 now you pay 535.0\n"
     ]
    }
   ],
   "source": [
    "# 10)Tax-Free Day\n",
    "# If today is a tax-free day (tax_free = True), display the original price. Otherwise, add a 7% tax.\n",
    "\n",
    "day= input(\"today is tax free day ?  (yes/not)\")#.strip().lower()==\"yes\"\n",
    "price=float(input(\"Enter the price\"))\n",
    "if day == \"yes\":\n",
    "    print (f\"today is tax free day. your price is: {price} \")\n",
    "else:\n",
    "    tax=price*7/100\n",
    "    print(f\"toay is 7% tax day. your tax is:{tax} now you pay {tax + price}\")"
   ]
  },
  {
   "cell_type": "code",
   "execution_count": 25,
   "id": "b188b82e-c8e6-4d59-b32c-975ae5fd6d9d",
   "metadata": {},
   "outputs": [
    {
     "name": "stdin",
     "output_type": "stream",
     "text": [
      "Enter the total amount  20\n"
     ]
    },
    {
     "name": "stdout",
     "output_type": "stream",
     "text": [
      "your shipping charges is $5. now you pay: 25.0\n"
     ]
    }
   ],
   "source": [
    "# 11)Free Shipping\n",
    "# If the total purchase amount is more than $50, offer free shipping;\n",
    "# otherwise, charge $5 for shipping. Display the total amount including shipping.\n",
    "\n",
    "total_amount=float(input(\"Enter the total amount \"))\n",
    "\n",
    "if total_amount >=50:\n",
    "    print(f\"free shipping. your total price is:{total_amount}\")\n",
    "else:\n",
    "    print(f\"your shipping charges is $5. now you pay: {total_amount + 5}\")"
   ]
  },
  {
   "cell_type": "code",
   "execution_count": 33,
   "id": "157db4a0-0854-4a0d-a365-a58796d986db",
   "metadata": {},
   "outputs": [
    {
     "name": "stdin",
     "output_type": "stream",
     "text": [
      "Enter the amount 500\n",
      "Enter the discount code jjn\n"
     ]
    },
    {
     "name": "stdout",
     "output_type": "stream",
     "text": [
      "pay the full amount: 500.0\n"
     ]
    }
   ],
   "source": [
    "# 12)Discount Code\n",
    "# If a customer enters the correct discount code (DISCOUNT10), \n",
    "# apply a 10% discount. Otherwise, charge the full amount.\n",
    "\n",
    "price=float(input(\"Enter the amount\"))\n",
    "code = input(\"Enter the discount code\")\n",
    "if code == \"discount10\":\n",
    "    discount=price*10/100\n",
    "    print(f\"your 10$ discount is:{discount}, now you pay {price - discount}\")\n",
    "else:\n",
    "    print(f\"pay the full amount: {price}\")"
   ]
  },
  {
   "cell_type": "code",
   "execution_count": 31,
   "id": "00cf1bea-6ee3-492c-98fb-656837d30e72",
   "metadata": {},
   "outputs": [
    {
     "name": "stdin",
     "output_type": "stream",
     "text": [
      "Enter the total price  62\n"
     ]
    },
    {
     "name": "stdout",
     "output_type": "stream",
     "text": [
      "your 10% discount is:6.2, now you can pay Rs:55.80 \n"
     ]
    }
   ],
   "source": [
    "# 13. Tiered Discounts\n",
    "# Apply discounts based on the total price:\n",
    "#         ◦ $0–$50: No discount.\n",
    "#         ◦ $50–$100: 10% discount.\n",
    "#         ◦ Over $100: 20% discount.\n",
    "\n",
    "total_price=float(input(\"Enter the total price \"))\n",
    "\n",
    "if total_price <50 :\n",
    "    print(f\"no discount :{total_price}\")\n",
    "elif total_price >= 50 and total_price <=100:\n",
    "    discount=total_price*10/100\n",
    "    print(f\"your 10% discount is:{discount}, now you can pay Rs:{total_price - discount:.2f} \")\n",
    "else:\n",
    "    discount=total_price*20/100\n",
    "    print(f\"your 20% discount is :{discount}, now you pay {total_price - discount:.2f}\")"
   ]
  },
  {
   "cell_type": "code",
   "execution_count": 42,
   "id": "f764e402-5992-44c4-aef1-435518510645",
   "metadata": {},
   "outputs": [
    {
     "name": "stdin",
     "output_type": "stream",
     "text": [
      "Enter the total amount of purchase 12\n"
     ]
    },
    {
     "name": "stdout",
     "output_type": "stream",
     "text": [
      "\"Minimum purchase of $20 is required.\"\n"
     ]
    }
   ],
   "source": [
    "# 14)Minimum Purchase Requirement\n",
    "# If the total amount is less than $20, display a message: \"Minimum purchase of $20 is required.\" \n",
    "# Otherwise, display the total amount.\n",
    "\n",
    "purchase=float(input(\"Enter the total amount of purchase\"))\n",
    "\n",
    "if purchase < 20 :\n",
    "    print('\"Minimum purchase of $20 is required.\"')\n",
    "else:\n",
    "    print(f\"pay the amount Rs:{purchase}\")\n",
    "    "
   ]
  },
  {
   "cell_type": "code",
   "execution_count": 56,
   "id": "5431fae6-579d-4377-895d-f537952eafec",
   "metadata": {},
   "outputs": [
    {
     "name": "stdin",
     "output_type": "stream",
     "text": [
      "Enter the purchase 50\n",
      "is a customer loyal member? (yes/no) mm\n"
     ]
    },
    {
     "name": "stdout",
     "output_type": "stream",
     "text": [
      "he earned standard points 50.0\n"
     ]
    }
   ],
   "source": [
    "# 15)Loyalty Points\n",
    "# If a customer is a loyal member (is_loyal = True), they earn double loyalty points for their purchase. \n",
    "# Otherwise, they earn standard points.\n",
    "\n",
    "purchase= float(input(\"Enter the purchase\"))\n",
    "loyalty=input(\"is a customer loyal member? (yes/no)\")\n",
    "\n",
    "if loyalty == \"yes\":\n",
    "    print(f\"he earned double loyalty points {purchase * 2} \")\n",
    "else:\n",
    "    print(f\"he earned standard points {purchase}\")"
   ]
  },
  {
   "cell_type": "code",
   "execution_count": 60,
   "id": "d6666e60-ae77-403f-870a-61881aa9f85c",
   "metadata": {},
   "outputs": [
    {
     "name": "stdin",
     "output_type": "stream",
     "text": [
      "Enter the ticket price 500\n",
      "Enter the miles 100\n"
     ]
    },
    {
     "name": "stdout",
     "output_type": "stream",
     "text": [
      "pay ticket Rs:500.0\n"
     ]
    }
   ],
   "source": [
    "# 16)Travel Discount\n",
    "# If a person is traveling more than 500 miles, offer a 20% discount on ticket price. \n",
    "# Otherwise, charge the full amount.\n",
    "\n",
    "ticket=float(input(\"Enter the ticket price\"))\n",
    "miles=float(input(\"Enter the miles\"))\n",
    "\n",
    "if miles >=500:\n",
    "    discount=ticket*20/100\n",
    "    print(f\"your 20% discount is:{discount}pay the tickat Rs:{ticket-discount}\")\n",
    "else:\n",
    "    print(f\"pay ticket Rs:{ticket}\")"
   ]
  },
  {
   "cell_type": "code",
   "execution_count": 70,
   "id": "466543ed-c78e-417e-be03-bb116f51deae",
   "metadata": {},
   "outputs": [
    {
     "name": "stdin",
     "output_type": "stream",
     "text": [
      "Enter the ticket price 500\n",
      "Enter the age  59\n"
     ]
    },
    {
     "name": "stdout",
     "output_type": "stream",
     "text": [
      "pay the Rs: 500.0\n"
     ]
    }
   ],
   "source": [
    "# 17)Child or Senior Discount\n",
    "# If a passenger is under 12 or over 60 years old, apply a 15% discount on the ticket price.\n",
    "# Otherwise, charge the full price.\n",
    "\n",
    "ticket=float(input(\"Enter the ticket price\"))\n",
    "age=float(input(\"Enter the age \"))\n",
    "\n",
    "if age <= 12 or age >=60:\n",
    "    discount = ticket*15/100\n",
    "    print(f\"your 15% discount is :{discount} now pay the Rs:{ticket - discount}\")\n",
    "else:\n",
    "    print(f\"pay the Rs: {ticket}\")"
   ]
  },
  {
   "cell_type": "code",
   "execution_count": 78,
   "id": "147af58a-4da2-4f61-a0b3-cfcd769f611e",
   "metadata": {},
   "outputs": [
    {
     "name": "stdin",
     "output_type": "stream",
     "text": [
      "Enter the ticket price 500\n",
      "Enter the day  saturday\n"
     ]
    },
    {
     "name": "stdout",
     "output_type": "stream",
     "text": [
      "your 10% surcharge is :50.0 now pay the Rs:550.0\n"
     ]
    }
   ],
   "source": [
    "# 18)Ticket Type Pricing\n",
    "# If the ticket is for a weekend (is_weekend = True), add a 10% surcharge.\n",
    "# Otherwise, charge the standard price.\n",
    "\n",
    "ticket=float(input(\"Enter the ticket price\"))\n",
    "day=input(\"Enter the day \")\n",
    "\n",
    "if day == \"sunday\" or day ==\"saturday\":\n",
    "    surcharge = ticket*10/100\n",
    "    print(f\"your 10% surcharge is :{surcharge} now pay the Rs:{ticket + surcharge}\")\n",
    "else:\n",
    "    print(f\"pay the Rs: {ticket}\")"
   ]
  },
  {
   "cell_type": "code",
   "execution_count": 92,
   "id": "f54bd635-2a8a-42e6-be06-69dd278d0368",
   "metadata": {},
   "outputs": [
    {
     "name": "stdin",
     "output_type": "stream",
     "text": [
      "Enter the ticket price 500\n",
      "Enter the baggage weight 25\n"
     ]
    },
    {
     "name": "stdout",
     "output_type": "stream",
     "text": [
      "your extra weight is:5.0kg, extra charges is: 50.0 pay the Rs:550.0 \n"
     ]
    }
   ],
   "source": [
    "# 19)Baggage Fee\n",
    "# If the total baggage weight is over 20kg, charge $10 per extra kilogram.\n",
    "# Otherwise, no extra fee.\n",
    "\n",
    "ticket= float(input(\"Enter the ticket price\"))\n",
    "weight=float(input(\"Enter the baggage weight\"))\n",
    "\n",
    "if weight >20:\n",
    "    extra_fee=(weight-20)\n",
    "    print(f\"your extra weight is:{extra_fee}kg, extra charges is: {extra_fee*10} pay the Rs:{(extra_fee*10) + ticket} \")\n",
    "else:\n",
    "    print(f\"pay the ticket Rs:{ticket}\")"
   ]
  },
  {
   "cell_type": "code",
   "execution_count": 104,
   "id": "7fd94b3a-b693-4e43-ab35-ec9d3643bcdf",
   "metadata": {},
   "outputs": [
    {
     "name": "stdin",
     "output_type": "stream",
     "text": [
      "Enter the ticket price 500\n",
      "how many days before you booked ticket?  31\n"
     ]
    },
    {
     "name": "stdout",
     "output_type": "stream",
     "text": [
      "your 10% discount is:50.0 pay the tickat Rs:450.0\n"
     ]
    }
   ],
   "source": [
    "# 20)Early Bird Discount\n",
    "# If a ticket is booked more than 30 days in advance, apply a 10% discount.\n",
    "# Otherwise, charge the full price.\n",
    "\n",
    "ticket=float(input(\"Enter the ticket price\"))\n",
    "days=float(input(\"how many days before you booked ticket? \"))\n",
    "\n",
    "if days > 30:\n",
    "    discount=ticket*10/100\n",
    "    print(f\"your 10% discount is:{discount} pay the tickat Rs:{ticket-discount}\")\n",
    "else:\n",
    "    print(f\"pay ticket Rs:{ticket}\")"
   ]
  },
  {
   "cell_type": "code",
   "execution_count": 110,
   "id": "146df8a0-4cbd-4c20-b598-81401e57b8e3",
   "metadata": {},
   "outputs": [
    {
     "name": "stdin",
     "output_type": "stream",
     "text": [
      "Enter the marks  39\n"
     ]
    },
    {
     "name": "stdout",
     "output_type": "stream",
     "text": [
      "fail\n"
     ]
    }
   ],
   "source": [
    "# 21)Pass or Fail\n",
    "# If a student scores 40 or more, print \"Pass\".\n",
    "# Otherwise, print \"Fail\".\n",
    "\n",
    "marks=float(input(\"Enter the marks \"))\n",
    "\n",
    "if marks >= 40 :\n",
    "    print(f\"congrats you pass \")\n",
    "else:\n",
    "    print(f\"fail\")"
   ]
  },
  {
   "cell_type": "code",
   "execution_count": 142,
   "id": "64d5200d-825e-4a1d-a50f-dff9c974b3e5",
   "metadata": {},
   "outputs": [
    {
     "name": "stdin",
     "output_type": "stream",
     "text": [
      "Enter the student score 76\n"
     ]
    },
    {
     "name": "stdout",
     "output_type": "stream",
     "text": [
      "The student grade is:Gade B\n"
     ]
    }
   ],
   "source": [
    "# 22) Grade Assignment\n",
    "# Based on a student's score, assign grades:\n",
    "        # ◦ 90 and above: \"A\"\n",
    "        # ◦ 75–89: \"B\"\n",
    "        # ◦ 50–74: \"C\"\n",
    "        # ◦ Below 50: \"F\"\n",
    "\n",
    "score=float(input(\"Enter the student score\"))\n",
    "\n",
    "if score >= 90:\n",
    "    grade=(\"Grade A\")\n",
    "elif score >=75:\n",
    "    grade=(\"Gade B\")\n",
    "elif score >=50:\n",
    "    grade=(\"Grade C\")\n",
    "else:\n",
    "    grade(\"Fail\")\n",
    "print(f\"The student grade is:{grade}\")\n"
   ]
  },
  {
   "cell_type": "code",
   "execution_count": 148,
   "id": "03cb1310-cb76-461d-ae54-004b2fe44165",
   "metadata": {},
   "outputs": [
    {
     "name": "stdin",
     "output_type": "stream",
     "text": [
      "Enter the marks 500\n",
      "complete all assignment (yes/no) m\n"
     ]
    },
    {
     "name": "stdout",
     "output_type": "stream",
     "text": [
      "500.0\n"
     ]
    }
   ],
   "source": [
    "# 23)Bonus Marks\n",
    "# If a student completes all assignments, add 5 bonus marks to their score. \n",
    "# Otherwise, no bonus marks.\n",
    "\n",
    "marks=float(input(\"Enter the marks\"))\n",
    "assignment=input(\"complete all assignment (yes/no)\")\n",
    "\n",
    "if assignment ==\"yes\":\n",
    "    print(f\"you got 5 bonus marks, your total marks is: {marks + 5}\")\n",
    "else:\n",
    "    print(f\"{marks}\")\n",
    "    "
   ]
  },
  {
   "cell_type": "code",
   "execution_count": 152,
   "id": "690cc6da-e905-4ae7-baa8-501e576dd636",
   "metadata": {},
   "outputs": [
    {
     "name": "stdin",
     "output_type": "stream",
     "text": [
      "Enter the attendence percentage 74\n"
     ]
    },
    {
     "name": "stdout",
     "output_type": "stream",
     "text": [
      "you are not eligible for exams\n"
     ]
    }
   ],
   "source": [
    "# 24)Attendance Eligibility\n",
    "# If a student's attendance is 75% or more, they are eligible to take the exam.\n",
    "# Otherwise, they are not.\n",
    "\n",
    "attendence=float(input(\"Enter the attendence percentage\"))\n",
    "\n",
    "if attendence >=75:\n",
    "    print(\"you are eligible for exams\")\n",
    "else:\n",
    "    print(\"you are not eligible for exams\")"
   ]
  },
  {
   "cell_type": "code",
   "execution_count": 170,
   "id": "807c8a0b-4e64-44b5-9c52-c05f7db3b691",
   "metadata": {},
   "outputs": [
    {
     "name": "stdin",
     "output_type": "stream",
     "text": [
      "Enter the grade a\n",
      "Enter the family income 29000\n"
     ]
    },
    {
     "name": "stdout",
     "output_type": "stream",
     "text": [
      "you are eligible for scholarship\n"
     ]
    }
   ],
   "source": [
    "# Scholarship Eligibility\n",
    "# If a student's grade is \"A\" and their annual family income is below $30,000, they are eligible for a scholarship.\n",
    "# Otherwise, they are not.\n",
    "\n",
    "grade=input(\"Enter the grade\")\n",
    "income=float(input(\"Enter the family income\"))\n",
    "\n",
    "if grade ==\"a\" and income <30000:\n",
    "    print(f\"you are eligible for scholarship\")\n",
    "else:\n",
    "    print(\"you are not eligibe \")"
   ]
  },
  {
   "cell_type": "code",
   "execution_count": null,
   "id": "329b6055-9acd-40ce-8535-6b0c283815e2",
   "metadata": {},
   "outputs": [],
   "source": []
  }
 ],
 "metadata": {
  "kernelspec": {
   "display_name": "Python 3 (ipykernel)",
   "language": "python",
   "name": "python3"
  },
  "language_info": {
   "codemirror_mode": {
    "name": "ipython",
    "version": 3
   },
   "file_extension": ".py",
   "mimetype": "text/x-python",
   "name": "python",
   "nbconvert_exporter": "python",
   "pygments_lexer": "ipython3",
   "version": "3.11.4"
  }
 },
 "nbformat": 4,
 "nbformat_minor": 5
}
