{
 "cells": [
  {
   "cell_type": "code",
   "execution_count": 20,
   "id": "9f60cd85-b406-4dad-b94b-aecef82f6be7",
   "metadata": {},
   "outputs": [
    {
     "name": "stdout",
     "output_type": "stream",
     "text": [
      "bismillah in python 42 True 3.12\n"
     ]
    }
   ],
   "source": [
    "# 1) Using the python print function print any string value, integer value, boolean value, float value in single print command\n",
    "\n",
    "print(\"bismillah in python\", 42 , True, 3.12)"
   ]
  },
  {
   "cell_type": "code",
   "execution_count": 22,
   "id": "8c65c6e9-a173-46d4-b5ad-a56164d85010",
   "metadata": {},
   "outputs": [
    {
     "name": "stdout",
     "output_type": "stream",
     "text": [
      "bismillah in python-42-True-3.12\n"
     ]
    }
   ],
   "source": [
    "#2) Using the python print function print hyphon(-) separated any string value, integer value, boolean value, float value in single print command\n",
    "print(\"bismillah in python\", 42 , True, 3.12, sep=\"-\")"
   ]
  },
  {
   "cell_type": "code",
   "execution_count": 3,
   "id": "9f4e766e-2cb3-4c10-855a-6599fcc1d558",
   "metadata": {},
   "outputs": [
    {
     "name": "stdout",
     "output_type": "stream",
     "text": [
      "bismillah in  python 42 True 3.12 "
     ]
    }
   ],
   "source": [
    "#3) Using the python print function print any string value, integer value, boolean value, float value in separate print command.\n",
    "#But every value must be space separated and in single line\n",
    "print(\"bismillah in  python\", end=\" \")\n",
    "print(42, end=\" \")\n",
    "print(True, end=\" \")\n",
    "print(3.12, end=\" \")"
   ]
  },
  {
   "cell_type": "code",
   "execution_count": 41,
   "id": "d02dfa2f-1446-49a3-b2e2-40545868e0a2",
   "metadata": {},
   "outputs": [
    {
     "name": "stdout",
     "output_type": "stream",
     "text": [
      "line 1\n",
      "\n",
      "line 3\n"
     ]
    }
   ],
   "source": [
    "# 4) Can a python print function take no value to print???\n",
    "print(\"line 1\")\n",
    "print()   #yes\n",
    "print(\"line 3\")"
   ]
  },
  {
   "cell_type": "code",
   "execution_count": 77,
   "id": "0b8cd836-160f-487b-93bb-356508e83267",
   "metadata": {},
   "outputs": [
    {
     "name": "stdout",
     "output_type": "stream",
     "text": [
      "friend's name: Mr Ahmed\n",
      "age: 30\n",
      "Profesion: lawer\n",
      "Education: bachlors in Law\n",
      "Graduation year: 2005\n",
      "Company name: The himalya Associates\n",
      "City: Karachi\n",
      "Working since: 2015\n",
      "Height: 5.1 feet\n",
      "Weight: 70600 gram\n",
      "Monthly income: Rs. 200000 pkr\n"
     ]
    }
   ],
   "source": [
    "#5) One of my friend name is Mr. Ahmed. He is 30 years old.  He is a lawer by profession. He has done his bachelors in law in the year 2005.\n",
    "# He is working with a reputable law firm 'The Himalya Associates' in Karachi since 2015.\n",
    "# He is a handsome lawer with height of 5.10 feets and weight 70600g. His monthly income is Rs. 200k PKR.\n",
    "\n",
    "# Note: Create variables from above text and also assign values from the text.  \n",
    "\n",
    "name= \"Mr Ahmed\"\n",
    "age= 30 \n",
    "profession= \"lawer\"\n",
    "education= \"bachlors in Law\"\n",
    "graduation_year= 2005\n",
    "company_name=\"The himalya Associates\"\n",
    "city= \"Karachi\"\n",
    "working_since= 2015\n",
    "height= 5.10\n",
    "weight= 70600\n",
    "m_income= 200000\n",
    "\n",
    "print(\"friend's name:\", name)\n",
    "print(\"age:\",age)\n",
    "print(\"Profesion:\",profession)\n",
    "print(\"Education:\",education)\n",
    "print(\"Graduation year:\",graduation_year)\n",
    "print(\"Company name:\",company_name)\n",
    "print(\"City:\",city)\n",
    "print(\"Working since:\",working_since)\n",
    "print(\"Height:\", height,\"feet\")\n",
    "print(\"Weight:\",weight, \"gram\")\n",
    "print(\"Monthly income:\", \"Rs.\",m_income,\"pkr\")"
   ]
  },
  {
   "cell_type": "code",
   "execution_count": 79,
   "id": "8a11d610-ca78-471d-9fc8-96f3ccd10427",
   "metadata": {},
   "outputs": [
    {
     "name": "stdout",
     "output_type": "stream",
     "text": [
      "Years since Mr. Ahmed's graduation: 19\n"
     ]
    }
   ],
   "source": [
    "# 6)How many years has been to Mr. Ahmed after his bachelors degree? \n",
    "# Create a variable that hold current year value and then subtract it from his passout year\n",
    "\n",
    "current_year=2024\n",
    "graduation_year=2005\n",
    "\n",
    "print(\"Years since Mr. Ahmed's graduation:\", current_year-graduation_year)"
   ]
  },
  {
   "cell_type": "code",
   "execution_count": 87,
   "id": "f6527074-a236-48f5-9975-b436cb3350ef",
   "metadata": {},
   "outputs": [
    {
     "name": "stdout",
     "output_type": "stream",
     "text": [
      "Years Mr Ahmed working  'The Himalya Associate': 9\n"
     ]
    }
   ],
   "source": [
    "# 7) How many years has Mr. Ahmed been working with law firm 'The Himalya Associates'.\n",
    "# Create necesary variables and print the correct number of years in working in the firm\n",
    "\n",
    "curren_year=2024\n",
    "working_since=2015\n",
    "\n",
    "print(\"Years Mr Ahmed working  'The Himalya Associate':\", current_year-working_since)"
   ]
  },
  {
   "cell_type": "code",
   "execution_count": 89,
   "id": "d76387b5-8ddb-459e-9083-0f5f808831ed",
   "metadata": {},
   "outputs": [
    {
     "name": "stdout",
     "output_type": "stream",
     "text": [
      "The monthly income in Dollars is 714.2857142857143\n"
     ]
    }
   ],
   "source": [
    "# 8)Convert the monthly income of Mr. Ahmed in dollars.  Create necesary variables and print the income in dollars.\n",
    "monthly_income=200000\n",
    "exchange_rate=280\n",
    "\n",
    "print(\"The monthly income in Dollars is\",monthly_income/exchange_rate)"
   ]
  },
  {
   "cell_type": "code",
   "execution_count": 95,
   "id": "95cc18e9-7338-45eb-9701-b1b899eb6528",
   "metadata": {},
   "outputs": [
    {
     "name": "stdout",
     "output_type": "stream",
     "text": [
      "The monthly income in Dollars is 714\n"
     ]
    }
   ],
   "source": [
    "# 9) Check if the income in dollars is a float or integer value. if it is float, re-write the code so that income gets converted in integer. \n",
    "# print the income in integer type value\n",
    "\n",
    "monthly_income=200000\n",
    "exchange_rate=280\n",
    "usd=monthly_income/exchange_rate\n",
    "\n",
    "print(\"The monthly income in Dollars is\",int(usd))"
   ]
  },
  {
   "cell_type": "code",
   "execution_count": 111,
   "id": "473f7dbd-3f0e-4e48-af1e-bf8e9b076a85",
   "metadata": {},
   "outputs": [
    {
     "name": "stdout",
     "output_type": "stream",
     "text": [
      "Mr Ahmed's weight in kg is: 70\n"
     ]
    }
   ],
   "source": [
    "# 10) Print the type of Mr. Ahmed's weight. Convert the weight of Mr. Ahmed in kg so that weight must be a integer value.\n",
    "\n",
    "weight_grams=70600\n",
    "convert_kilograms=1000\n",
    "kg= weight_grams/convert_kilograms\n",
    "print(\"Mr Ahmed's weight in kg is:\",int(kg))"
   ]
  },
  {
   "cell_type": "code",
   "execution_count": 117,
   "id": "cc63aebf-b6e4-44a3-a670-7a7168ac72c0",
   "metadata": {},
   "outputs": [
    {
     "name": "stdout",
     "output_type": "stream",
     "text": [
      "Birth year of Ahmed's is: 1994\n"
     ]
    }
   ],
   "source": [
    "#11) print the year of birth of Mr. Ahmed.\n",
    "current_year=2024\n",
    "age=30\n",
    "birth_year = current_year - age\n",
    "print(\"Birth year of Ahmed's is:\",birth_year)"
   ]
  },
  {
   "cell_type": "code",
   "execution_count": 125,
   "id": "94dcd4f4-cc48-42e3-933d-ed82aff2f374",
   "metadata": {},
   "outputs": [
    {
     "name": "stdout",
     "output_type": "stream",
     "text": [
      "4\n"
     ]
    }
   ],
   "source": [
    "# 12) Can Rs. 100 be divided equally among 6 students?\n",
    "# HINT: % operator (modulo)\n",
    "\n",
    "rs=100%6\n",
    "print(rs)"
   ]
  },
  {
   "cell_type": "code",
   "execution_count": null,
   "id": "6f24db82-e3f5-4629-b804-4cd95ebe166b",
   "metadata": {},
   "outputs": [],
   "source": []
  }
 ],
 "metadata": {
  "kernelspec": {
   "display_name": "Python 3 (ipykernel)",
   "language": "python",
   "name": "python3"
  },
  "language_info": {
   "codemirror_mode": {
    "name": "ipython",
    "version": 3
   },
   "file_extension": ".py",
   "mimetype": "text/x-python",
   "name": "python",
   "nbconvert_exporter": "python",
   "pygments_lexer": "ipython3",
   "version": "3.11.4"
  }
 },
 "nbformat": 4,
 "nbformat_minor": 5
}
