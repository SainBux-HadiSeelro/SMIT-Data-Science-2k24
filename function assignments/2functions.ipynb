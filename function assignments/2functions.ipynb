{
 "cells": [
  {
   "cell_type": "code",
   "execution_count": 2,
   "id": "05be6d27-174e-4c01-84fe-8509bf565d55",
   "metadata": {},
   "outputs": [
    {
     "name": "stdout",
     "output_type": "stream",
     "text": [
      "functions assignment 2\n"
     ]
    }
   ],
   "source": [
    "print(\"functions assignment 2\")"
   ]
  },
  {
   "cell_type": "code",
   "execution_count": 15,
   "id": "30998dab-8677-4410-8e11-ac94dd1316c3",
   "metadata": {},
   "outputs": [
    {
     "name": "stdout",
     "output_type": "stream",
     "text": [
      "2002,2009,2016,2023,2037,2044,2051,2058,2072,2079,2086,2093,2107,2114,2121,2128,2142,2149,2156,2163,2177,2184,2191,2198,2212,2219,2226,2233,2247,2254,2261,2268,2282,2289,2296,2303,2317,2324,2331,2338,2352,2359,2366,2373,2387,2394,2401,2408,2422,2429,2436,2443,2457,2464,2471,2478,2492,2499,2506,2513,2527,2534,2541,2548,2562,2569,2576,2583,2597,2604,2611,2618,2632,2639,2646,2653,2667,2674,2681,2688,2702,2709,2716,2723,2737,2744,2751,2758,2772,2779,2786,2793,2807,2814,2821,2828,2842,2849,2856,2863,2877,2884,2891,2898,2912,2919,2926,2933,2947,2954,2961,2968,2982,2989,2996,3003,3017,3024,3031,3038,3052,3059,3066,3073,3087,3094,3101,3108,3122,3129,3136,3143,3157,3164,3171,3178,3192,3199\n"
     ]
    }
   ],
   "source": [
    "# Task1: \n",
    "# You need to write a function in python that return all such numbers which are \n",
    "# divisible by 7 but are not a multiple of 5, between 2000 and 3200 (both included). \n",
    "# Return the obtained numbers in a comma-separated sequence on a single line. \n",
    "\n",
    "\n",
    "def divisible():\n",
    "    \n",
    "    return \",\".join([str(num) for num in range(2000, 3201) if num % 7 == 0 and num % 5 != 0])\n",
    "\n",
    "print(divisible())\n"
   ]
  },
  {
   "cell_type": "code",
   "execution_count": 17,
   "id": "c60365c5-7f53-4091-b91f-17d9aec9e355",
   "metadata": {},
   "outputs": [
    {
     "name": "stdin",
     "output_type": "stream",
     "text": [
      "Enter values of C (comma-separated):  100,150,180\n"
     ]
    },
    {
     "name": "stdout",
     "output_type": "stream",
     "text": [
      "5,4,4\n"
     ]
    }
   ],
   "source": [
    "# # Task2: \n",
    "# # You need code a function that calculates and returns the value according to the \n",
    "# # given formula: \n",
    "# # P = Square root of [(2 * A * B)/C] \n",
    "# # Following are the fixed values of A and B: \n",
    "# # A is 50. B is 30. \n",
    "# # The values of the literal C should be taken as console input to your program in a \n",
    "# # comma-separated sequence. \n",
    "# # Example \n",
    "# # Let us assume the following comma separated input sequence is given to the \n",
    "# # program: \n",
    "# # 100,150,180 \n",
    "# # The output of the program should be: \n",
    "# # 18,22,24 \n",
    "# import math\n",
    "\n",
    "# def calculate():\n",
    "#     A = 50\n",
    "#     B = 30\n",
    "#     C_values = map(int, input(\"Enter values of C (comma-separated): \").split(\",\"))\n",
    "#     return \",\".join([str(int(math.sqrt((2 * A * B) / C))) for C in C_values])\n",
    "\n",
    "# # Test\n",
    "# print(calculate())\n"
   ]
  },
  {
   "cell_type": "code",
   "execution_count": 34,
   "id": "585d92ec-3c35-47e0-84b7-b0ecd05f6683",
   "metadata": {},
   "outputs": [
    {
     "name": "stdin",
     "output_type": "stream",
     "text": [
      "Enter words separated by commas:  hello,word,khan\n"
     ]
    },
    {
     "name": "stdout",
     "output_type": "stream",
     "text": [
      "hello,khan,word\n"
     ]
    }
   ],
   "source": [
    "# Task3: \n",
    "# You need to write a function that takes a comma separated sequence of words as \n",
    "# input and prints the words in a comma-separated sequence after sorting them \n",
    "# alphabetically. \n",
    "# Suppose the following input is supplied to the program: \n",
    "# without,hello,bag,world \n",
    "# Then, the output should be: \n",
    "# bag,hello,without,world \n",
    "\n",
    "def sort_words_method1():\n",
    "    input_words = input(\"Enter words separated by commas: \")\n",
    "    word_list = input_words.split(\",\")\n",
    "    word_list.sort() \n",
    "    print(\",\".join(word_list))  \n",
    "\n",
    "\n",
    "sort_words_method1()\n"
   ]
  },
  {
   "cell_type": "code",
   "execution_count": 38,
   "id": "3e362ae5-2998-47e9-ad79-6a12f750ab31",
   "metadata": {},
   "outputs": [
    {
     "name": "stdout",
     "output_type": "stream",
     "text": [
      "Enter lines (type 'done' to stop):\n"
     ]
    },
    {
     "name": "stdin",
     "output_type": "stream",
     "text": [
      " hello world \n",
      " hello g\n",
      " done\n"
     ]
    },
    {
     "name": "stdout",
     "output_type": "stream",
     "text": [
      "HELLO WORLD \n",
      "HELLO G\n"
     ]
    }
   ],
   "source": [
    "# Task4: \n",
    "# You need to write a program that takes sequence of lines as input and prints the \n",
    "# lines after making all characters in the sentence capitalized. \n",
    "# Suppose the following input is supplied to the program: \n",
    "# Hello world \n",
    "# Practice makes perfect \n",
    "# Then, the output should be:\n",
    "\n",
    "def capitalize_lines_method3():\n",
    "    \n",
    "    print(\"Enter lines (type 'done' to stop):\")\n",
    "    lines = []\n",
    "    \n",
    "    while True:\n",
    "        line = input()\n",
    "        if line.lower() == \"done\":\n",
    "            break\n",
    "        lines.append(line)\n",
    "    \n",
    "    \n",
    "    capitalized_lines = [line.upper() for line in lines]\n",
    "    \n",
    "    \n",
    "    for line in capitalized_lines:\n",
    "        print(line)\n",
    "\n",
    "\n",
    "capitalize_lines_method3()\n"
   ]
  },
  {
   "cell_type": "code",
   "execution_count": 40,
   "id": "4b81641b-8589-49ac-a395-62566c1c6e95",
   "metadata": {},
   "outputs": [
    {
     "name": "stdin",
     "output_type": "stream",
     "text": [
      "Enter a sentence:  you are a ood\n"
     ]
    },
    {
     "name": "stdout",
     "output_type": "stream",
     "text": [
      "a appeared 2 times\n",
      "e appeared 1 time\n",
      "i appeared 0 times\n",
      "o appeared 3 times\n",
      "u appeared 1 time\n"
     ]
    }
   ],
   "source": [
    "# Task5: \n",
    "# You need to write a function that counts the number of vowels in a given \n",
    "# sentence as input from console. \n",
    "# Suppose the following input is supplied to the program: \n",
    "# Hello world \n",
    "# Practice makes perfect \n",
    "# Then, the output should be: \n",
    "# a appeared 2 times \n",
    "# e appeared 5 times \n",
    "# i appeared 1 time \n",
    "# o appeared 2 times \n",
    "# u appeared 0 time \n",
    "# PRACTICE MAKES PERFECT\n",
    "\n",
    "def count_vowels_method3():\n",
    "    sentence = input(\"Enter a sentence: \")\n",
    "    vowels = \"aeiou\"\n",
    "    \n",
    "    # Count occurrences of each vowel\n",
    "    for vowel in vowels:\n",
    "        count = sentence.lower().count(vowel)\n",
    "        print(f\"{vowel} appeared {count} time{'s' if count != 1 else ''}\")\n",
    "\n",
    "# Test the function\n",
    "count_vowels_method3()\n"
   ]
  },
  {
   "cell_type": "code",
   "execution_count": 15,
   "id": "e77fe675-82ec-4124-93b4-ece892532c73",
   "metadata": {},
   "outputs": [
    {
     "name": "stdout",
     "output_type": "stream",
     "text": [
      "[2000, 2002, 2004, 2006, 2008, 2020, 2022, 2024, 2026, 2028, 2040, 2042, 2044, 2046, 2048, 2060, 2062, 2064, 2066, 2068, 2080, 2082, 2084, 2086, 2088, 2200, 2202, 2204, 2206, 2208, 2220, 2222, 2224, 2226, 2228, 2240, 2242, 2244, 2246, 2248, 2260, 2262, 2264, 2266, 2268, 2280, 2282, 2284, 2286, 2288, 2400, 2402, 2404, 2406, 2408, 2420, 2422, 2424, 2426, 2428, 2440, 2442, 2444, 2446, 2448, 2460, 2462, 2464, 2466, 2468, 2480, 2482, 2484, 2486, 2488, 2600, 2602, 2604, 2606, 2608, 2620, 2622, 2624, 2626, 2628, 2640, 2642, 2644, 2646, 2648, 2660, 2662, 2664, 2666, 2668, 2680, 2682, 2684, 2686, 2688, 2800, 2802, 2804, 2806, 2808, 2820, 2822, 2824, 2826, 2828, 2840, 2842, 2844, 2846, 2848, 2860, 2862, 2864, 2866, 2868, 2880, 2882, 2884, 2886, 2888]\n"
     ]
    }
   ],
   "source": [
    "# Task6: \n",
    "# You need write a function that traces and makes a list of all such numbers \n",
    "# from1000 to 3000 in which all the digits are even numbers.\n",
    "\n",
    "def find_even():\n",
    "    return [number for number in range(1000, 3001) if all(int(digit) % 2 == 0 for digit in str(number))]\n",
    "\n",
    "print(find_even())\n"
   ]
  },
  {
   "cell_type": "code",
   "execution_count": 17,
   "id": "30417bc3-1832-43ba-b354-ed7428d903e9",
   "metadata": {},
   "outputs": [
    {
     "name": "stdin",
     "output_type": "stream",
     "text": [
      "Enter comma-separated 4-digit binary numbers:  0100,0011,1010,1001\n"
     ]
    },
    {
     "name": "stdout",
     "output_type": "stream",
     "text": [
      "1010\n"
     ]
    }
   ],
   "source": [
    "# Task7: \n",
    "# You need to write a code which accepts a sequence of comma separated 4 digit \n",
    "# binary numbers as its input and then check whether they are divisible by 5 or not. \n",
    "# The numbers that are divisible by 5 are to be printed in a comma separated \n",
    "# sequence. \n",
    "# Example: \n",
    "# 0100,0011,1010,1001 \n",
    "# Then the output should be: \n",
    "# 1010\n",
    "\n",
    "\n",
    "def divisible_by_5():\n",
    "    binary_numbers = input(\"Enter comma-separated 4-digit binary numbers: \").split(',')\n",
    "    result = [binary for binary in binary_numbers if int(binary, 2) % 5 == 0]\n",
    "    print(\",\".join(result))\n",
    "\n",
    "# Example input: 0100,0011,1010,1001\n",
    "divisible_by_5()\n"
   ]
  },
  {
   "cell_type": "code",
   "execution_count": null,
   "id": "d8092b25-838a-4fcf-8d80-b0f9a0cf8860",
   "metadata": {},
   "outputs": [],
   "source": [
    "# Task8: \n",
    "# Write a program that accepts a sentence and calculate the number of letters and \n",
    "# digits. \n",
    "# Suppose the following input is supplied to the program: \n",
    "# hello world! 123 \n",
    "# Then, the output should be: \n",
    "# LETTERS 10 \n",
    "# DIGITS 3\n",
    "\n",
    "\n",
    "def count_letters_and_digits():\n",
    "    sentence = input(\"Enter a sentence: \")\n",
    "    letters = sum(1 for char in sentence if char.isalpha())\n",
    "    digits = sum(1 for char in sentence if char.isdigit())\n",
    "    print(f\"LETTERS {letters}\")\n",
    "    print(f\"DIGITS {digits}\")\n",
    "\n",
    "# Example input: hello world! 123\n",
    "count_letters_and_digits()\n",
    "\n"
   ]
  }
 ],
 "metadata": {
  "kernelspec": {
   "display_name": "Python 3 (ipykernel)",
   "language": "python",
   "name": "python3"
  },
  "language_info": {
   "codemirror_mode": {
    "name": "ipython",
    "version": 3
   },
   "file_extension": ".py",
   "mimetype": "text/x-python",
   "name": "python",
   "nbconvert_exporter": "python",
   "pygments_lexer": "ipython3",
   "version": "3.11.4"
  }
 },
 "nbformat": 4,
 "nbformat_minor": 5
}
