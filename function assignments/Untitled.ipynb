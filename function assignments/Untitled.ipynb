{
 "cells": [
  {
   "cell_type": "code",
   "execution_count": 2,
   "id": "9cb49bbb-b5ea-4837-95ad-f7250e76a7ce",
   "metadata": {},
   "outputs": [
    {
     "name": "stdout",
     "output_type": "stream",
     "text": [
      "functions assignment 1\n"
     ]
    }
   ],
   "source": [
    "print(\"functions assignment 1\")"
   ]
  },
  {
   "cell_type": "code",
   "execution_count": 16,
   "id": "5c562111-587e-46c0-8253-a8d3f3660f81",
   "metadata": {},
   "outputs": [
    {
     "name": "stdin",
     "output_type": "stream",
     "text": [
      "Enter 1st one  5\n",
      "Enter 2nd one  2\n",
      "Enter 3rd one  4\n"
     ]
    },
    {
     "name": "stdout",
     "output_type": "stream",
     "text": [
      "The maximum number of 5,2,and 4 is: 5\n"
     ]
    }
   ],
   "source": [
    " # Write a Python function to find the maximum of three numbers. \n",
    "def maximum_num(a,b,c):\n",
    "    return max(a,b,c)\n",
    "\n",
    "a=int(input(\"Enter 1st one \"))\n",
    "b=int(input(\"Enter 2nd one \"))\n",
    "c=int(input(\"Enter 3rd one \"))\n",
    "\n",
    "print(f\"The maximum number of {a},{b},and {c} is: {maximum_num(a,b,c)}\")"
   ]
  },
  {
   "cell_type": "code",
   "execution_count": 57,
   "id": "67e84d15-245f-4d8d-b842-48c617ed5bfe",
   "metadata": {},
   "outputs": [
    {
     "name": "stdin",
     "output_type": "stream",
     "text": [
      "Enter the list of seprate by commas g., 5,5,5): 5,4,5\n"
     ]
    },
    {
     "name": "stdout",
     "output_type": "stream",
     "text": [
      "the list of number is:[5, 4, 5]14 \n"
     ]
    }
   ],
   "source": [
    "# 2. Write a Python function to sum all the numbers in a list. \n",
    "# Sample List : (8, 2, 3, 0, 7) \n",
    "# Expected Output : 20\n",
    "\n",
    "def sum_of_numbers(number):\n",
    "    return sum(number)\n",
    "\n",
    "list_of_number=input(\"Enter the list of seprate by commas g., 5,5,5):\")\n",
    "list_of_number = [int(num) for num in list_of_number.split(',')]\n",
    "# list_of_number=5,5,5\n",
    "print(f\"the list of number is:{list_of_number}{sum_of_numbers(list_of_number)} \")"
   ]
  },
  {
   "cell_type": "code",
   "execution_count": null,
   "id": "9ecf1e95-fd6e-4130-b0d5-29c58b3b9dc8",
   "metadata": {},
   "outputs": [],
   "source": [
    "# 3. Write a Python function to multiply all the numbers in a list. \n",
    "# Sample List : (8, 2, 3, -1, 7) \n",
    "# Expected Output : -336 \n"
   ]
  }
 ],
 "metadata": {
  "kernelspec": {
   "display_name": "Python 3 (ipykernel)",
   "language": "python",
   "name": "python3"
  },
  "language_info": {
   "codemirror_mode": {
    "name": "ipython",
    "version": 3
   },
   "file_extension": ".py",
   "mimetype": "text/x-python",
   "name": "python",
   "nbconvert_exporter": "python",
   "pygments_lexer": "ipython3",
   "version": "3.11.4"
  }
 },
 "nbformat": 4,
 "nbformat_minor": 5
}
