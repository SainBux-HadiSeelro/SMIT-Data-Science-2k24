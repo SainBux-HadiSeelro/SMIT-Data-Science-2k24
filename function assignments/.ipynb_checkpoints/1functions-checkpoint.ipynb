{
 "cells": [
  {
   "cell_type": "code",
   "execution_count": 2,
   "id": "9cb49bbb-b5ea-4837-95ad-f7250e76a7ce",
   "metadata": {},
   "outputs": [
    {
     "name": "stdout",
     "output_type": "stream",
     "text": [
      "functions assignment 1\n"
     ]
    }
   ],
   "source": [
    "print(\"functions assignment 1\")"
   ]
  },
  {
   "cell_type": "code",
   "execution_count": 16,
   "id": "5c562111-587e-46c0-8253-a8d3f3660f81",
   "metadata": {},
   "outputs": [
    {
     "name": "stdin",
     "output_type": "stream",
     "text": [
      "Enter 1st one  5\n",
      "Enter 2nd one  2\n",
      "Enter 3rd one  4\n"
     ]
    },
    {
     "name": "stdout",
     "output_type": "stream",
     "text": [
      "The maximum number of 5,2,and 4 is: 5\n"
     ]
    }
   ],
   "source": [
    " # Write a Python function to find the maximum of three numbers. \n",
    "def maximum_num(a,b,c):\n",
    "    return max(a,b,c)\n",
    "\n",
    "a=int(input(\"Enter 1st one \"))\n",
    "b=int(input(\"Enter 2nd one \"))\n",
    "c=int(input(\"Enter 3rd one \"))\n",
    "\n",
    "print(f\"The maximum number of {a},{b},and {c} is: {maximum_num(a,b,c)}\")"
   ]
  },
  {
   "cell_type": "code",
   "execution_count": 57,
   "id": "67e84d15-245f-4d8d-b842-48c617ed5bfe",
   "metadata": {},
   "outputs": [
    {
     "name": "stdin",
     "output_type": "stream",
     "text": [
      "Enter the list of seprate by commas g., 5,5,5): 5,4,5\n"
     ]
    },
    {
     "name": "stdout",
     "output_type": "stream",
     "text": [
      "the list of number is:[5, 4, 5]14 \n"
     ]
    }
   ],
   "source": [
    "# 2. Write a Python function to sum all the numbers in a list. \n",
    "# Sample List : (8, 2, 3, 0, 7) \n",
    "# Expected Output : 20\n",
    "\n",
    "def sum_of_numbers(number):\n",
    "    return sum(number)\n",
    "\n",
    "list_of_number=input(\"Enter the list of seprate by commas g., 5,5,5):\")\n",
    "list_of_number = [int(num) for num in list_of_number.split(',')]\n",
    "# list_of_number=5,5,5\n",
    "print(f\"the list of number is:{list_of_number}{sum_of_numbers(list_of_number)} \")"
   ]
  },
  {
   "cell_type": "code",
   "execution_count": 5,
   "id": "51fc1e2c-2579-42e2-b911-02a327ad5e29",
   "metadata": {},
   "outputs": [
    {
     "name": "stdout",
     "output_type": "stream",
     "text": [
      "-336\n"
     ]
    }
   ],
   "source": [
    "# 3. Write a Python function to multiply all the numbers in a list. \n",
    "# Sample List : (8, 2, 3, -1, 7) \n",
    "# Expected Output : -336 \n",
    "\n",
    "def myfun(numbers):\n",
    "    if not isinstance(numbers,list):\n",
    "        return\n",
    "\n",
    "    result = 1\n",
    "    for num in numbers:\n",
    "        result *= num\n",
    "\n",
    "    return result\n",
    "\n",
    "numbers =[8,2,3,-1,7]\n",
    "print(myfun(numbers))"
   ]
  },
  {
   "cell_type": "code",
   "execution_count": 74,
   "id": "a6817432-98cf-41b2-87e8-a41b0211f092",
   "metadata": {},
   "outputs": [
    {
     "name": "stdin",
     "output_type": "stream",
     "text": [
      "enter any you want reverse: 123\n"
     ]
    },
    {
     "name": "stdout",
     "output_type": "stream",
     "text": [
      "321\n"
     ]
    }
   ],
   "source": [
    "# 4. . Write a Python program to reverse a string. \n",
    "# Sample String : \"1234abcd\" \n",
    "# Expected Output : \"dcba4321\" \n",
    "\n",
    "a = input(\"enter any you want reverse:\")\n",
    "\n",
    "reverse = \"\".join(reversed(a))\n",
    "    \n",
    "print (reversee)\n",
    "\n",
    "\n",
    "# reverse = a[::-1]\n",
    "\n",
    "# reversee = \"\"\n",
    "# for b in a:\n",
    "    # reversee =b+ reversee\n",
    "\n",
    "\n",
    "\n",
    "\n",
    "\n"
   ]
  },
  {
   "cell_type": "code",
   "execution_count": 162,
   "id": "8b4e650f-a302-49e6-ba62-a8f5610a81f9",
   "metadata": {},
   "outputs": [
    {
     "data": {
      "text/plain": [
       "720"
      ]
     },
     "execution_count": 162,
     "metadata": {},
     "output_type": "execute_result"
    }
   ],
   "source": [
    "# 5. Write a Python function to calculate the factorial of a number (a non-negative \n",
    "# integer). The function accepts the number as an argument\n",
    "\n",
    "def calfac (number):\n",
    "    if number ==0:\n",
    "        return 1\n",
    "    else: \n",
    "        result =1\n",
    "\n",
    "        for i in range(1,number + 1):\n",
    "           result *= i\n",
    "\n",
    "        return result\n",
    "\n",
    "calfac(number = 5)\n",
    "\n",
    "\n",
    "# num = int(input(\"Enter a non-negative integer: \"))\n",
    "# print(\"Factorial of\", num, \"is\", factorial(num))\n",
    "# print(num,factorial(num))"
   ]
  },
  {
   "cell_type": "code",
   "execution_count": 188,
   "id": "1b8aeac4-a663-42d7-9d92-536e4ae379ef",
   "metadata": {},
   "outputs": [
    {
     "name": "stdin",
     "output_type": "stream",
     "text": [
      "enter a number 5\n"
     ]
    },
    {
     "name": "stdout",
     "output_type": "stream",
     "text": [
      "yes\n"
     ]
    }
   ],
   "source": [
    "# 6. Write a Python function to check whether a number falls within a given range. \n",
    "a = int(input(\"enter a number\"))\n",
    "\n",
    "for b in range(1,10):\n",
    " if b == a :\n",
    "     print (\"yes\")\n",
    "     break\n",
    "else:\n",
    "     print(\"no\")\n"
   ]
  },
  {
   "cell_type": "code",
   "execution_count": 214,
   "id": "47d764f7-0d33-48ee-aa58-7b2bc067966e",
   "metadata": {},
   "outputs": [
    {
     "name": "stdout",
     "output_type": "stream",
     "text": [
      "no:or upper: 3\n",
      "no:of lower: 9\n"
     ]
    }
   ],
   "source": [
    "# 7. Write a Python function that accepts a string and counts the number of upper \n",
    "# and lower case letters. \n",
    "# Sample String : 'The quick Brow Fox' \n",
    "# Expected Output : \n",
    "# No. of Upper case characters : 3 \n",
    "# No. of Lower case Characters : 12\n",
    "\n",
    "def count_upper_lower(text):\n",
    "    upper_count = sum(1 for char in text if char.isupper())\n",
    "    lower_count = sum(1 for char in text if char.islower())\n",
    "    return upper_count, lower_count\n",
    "\n",
    "text = 'My Name is Hadi'\n",
    "upper,lower = count_upper_lower(text)\n",
    "print(\"no:or upper:\",upper)\n",
    "print(\"no:of lower:\",lower)"
   ]
  },
  {
   "cell_type": "code",
   "execution_count": 24,
   "id": "59c661fc-2cc3-4c25-b16b-e8608817bb8a",
   "metadata": {},
   "outputs": [
    {
     "name": "stdout",
     "output_type": "stream",
     "text": [
      "[1, 2, 3, 4, 5]\n"
     ]
    }
   ],
   "source": [
    "# 8. Write a Python function that takes a list and returns a new list with distinct \n",
    "# elements from the first list. \n",
    "# Sample List : [1,2,3,3,3,3,4,5] \n",
    "# Unique List : [1, 2, 3, 4, 5] \n",
    "\n",
    "def alist(inlist):\n",
    "    uniq = dict.fromkeys(inlist)\n",
    "    return list (uniq)\n",
    "\n",
    "sample_list = [1,2,3,3,3,3,4,5] \n",
    "print(alist(sample_list))\n",
    "    "
   ]
  },
  {
   "cell_type": "code",
   "execution_count": 31,
   "id": "65d8ff68-2467-43a7-85ab-65d4ff07aab4",
   "metadata": {},
   "outputs": [
    {
     "name": "stdout",
     "output_type": "stream",
     "text": [
      "False\n",
      "True\n"
     ]
    }
   ],
   "source": [
    "# 9.Write a Python function that takes a number as a parameter and checks \n",
    "# whether the number is prime or not. \n",
    "# Note : A prime number (or a prime) is a natural number greater than 1 and that \n",
    "# has no positive divisors other than 1 and itself. \n",
    "\n",
    "def is_prime(number):\n",
    "    if number <= 1:\n",
    "        return False\n",
    "    for i in range(2,number):\n",
    "        if number % i == 0:\n",
    "            return False\n",
    "    return True\n",
    "\n",
    "print(is_prime(10))\n",
    "print(is_prime(11))"
   ]
  },
  {
   "cell_type": "code",
   "execution_count": 33,
   "id": "d861e06d-ff3e-47aa-8adf-0064b8fd0bca",
   "metadata": {},
   "outputs": [
    {
     "name": "stdout",
     "output_type": "stream",
     "text": [
      "[2, 4, 6, 8]\n"
     ]
    }
   ],
   "source": [
    "# 10. Write a Python program to print the even numbers from a given list. \n",
    "# Sample List : [1, 2, 3, 4, 5, 6, 7, 8, 9]\n",
    "# Expected Result : [2, 4, 6, 8] \n",
    "\n",
    "def even_number(inlistt):\n",
    "    return [num for num in inlistt if num % 2 == 0]\n",
    "\n",
    "sample_list =  [1, 2, 3, 4, 5, 6, 7, 8, 9]\n",
    "print(even_number(sample_list))"
   ]
  },
  {
   "cell_type": "code",
   "execution_count": 41,
   "id": "55623ced-c6f5-4451-955e-7a3174f36b84",
   "metadata": {},
   "outputs": [
    {
     "name": "stdout",
     "output_type": "stream",
     "text": [
      "True\n",
      "True\n",
      "False\n"
     ]
    }
   ],
   "source": [
    "# 11. Write a Python function to check whether a number is \"Perfect\" or not. \n",
    "# According to Wikipedia : In number theory, a perfect number is a positive integer \n",
    "# that is equal to the sum of its proper positive divisors, that is, the sum of its \n",
    "# positive divisors excluding the number itself (also known as its aliquot sum). \n",
    "# Equivalently, a perfect number is a number that is half the sum of all of its \n",
    "# positive divisors (including itself). \n",
    "# Example : The first perfect number is 6, because 1, 2, and 3 are its proper positive \n",
    "# divisors, and 1 + 2 + 3 = 6. Equivalently, the number 6 is equal to half the sum of \n",
    "# all its positive divisors: ( 1 + 2 + 3 + 6 ) / 2 = 6. The next perfect number is 28 = 1 + \n",
    "# 2 + 4 + 7 + 14. This is followed by the perfect numbers 496 and 8128.\n",
    "\n",
    "def is_perfect(number):\n",
    "    if number <= 1: \n",
    "        return False\n",
    "    divisors = [i for i in range(1, number) if number % i == 0]  # List of proper divisors\n",
    "    return sum(divisors) == number  # Check if the sum of divisors equals the number\n",
    "\n",
    "# Test\n",
    "print(is_perfect(6))   \n",
    "print(is_perfect(28))  \n",
    "print(is_perfect(12))  \n",
    "\n"
   ]
  },
  {
   "cell_type": "code",
   "execution_count": 46,
   "id": "bf0a22d1-1010-457b-907c-6d7d95cb8265",
   "metadata": {},
   "outputs": [
    {
     "name": "stdout",
     "output_type": "stream",
     "text": [
      "True\n",
      "True\n",
      "False\n"
     ]
    }
   ],
   "source": [
    "# 12. Write a Python function that checks whether a passed string is a palindrome \n",
    "# or not. \n",
    "# Note: A palindrome is a word, phrase, or sequence that reads the same backward \n",
    "# as forward, e.g., madam or nurses run.\n",
    "\n",
    "def is_palindrome(s):\n",
    "    s =s.replace(\" \",\"\").lower()\n",
    "    return s == s[::-1]\n",
    "    \n",
    "print(is_palindrome(\"madam\"))\n",
    "print(is_palindrome(\"nurses run\"))\n",
    "print(is_palindrome(\"hello\"))\n"
   ]
  },
  {
   "cell_type": "code",
   "execution_count": null,
   "id": "910d0c74-049b-4b7b-8045-e05d4566b2c7",
   "metadata": {},
   "outputs": [],
   "source": [
    "\n"
   ]
  }
 ],
 "metadata": {
  "kernelspec": {
   "display_name": "Python 3 (ipykernel)",
   "language": "python",
   "name": "python3"
  },
  "language_info": {
   "codemirror_mode": {
    "name": "ipython",
    "version": 3
   },
   "file_extension": ".py",
   "mimetype": "text/x-python",
   "name": "python",
   "nbconvert_exporter": "python",
   "pygments_lexer": "ipython3",
   "version": "3.11.4"
  }
 },
 "nbformat": 4,
 "nbformat_minor": 5
}
