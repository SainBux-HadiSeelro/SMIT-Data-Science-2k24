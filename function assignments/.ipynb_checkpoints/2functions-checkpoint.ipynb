{
 "cells": [
  {
   "cell_type": "code",
   "execution_count": 2,
   "id": "05be6d27-174e-4c01-84fe-8509bf565d55",
   "metadata": {},
   "outputs": [
    {
     "name": "stdout",
     "output_type": "stream",
     "text": [
      "functions assignment 2\n"
     ]
    }
   ],
   "source": [
    "print(\"functions assignment 2\")"
   ]
  },
  {
   "cell_type": "code",
   "execution_count": 15,
   "id": "30998dab-8677-4410-8e11-ac94dd1316c3",
   "metadata": {},
   "outputs": [
    {
     "name": "stdout",
     "output_type": "stream",
     "text": [
      "2002,2009,2016,2023,2037,2044,2051,2058,2072,2079,2086,2093,2107,2114,2121,2128,2142,2149,2156,2163,2177,2184,2191,2198,2212,2219,2226,2233,2247,2254,2261,2268,2282,2289,2296,2303,2317,2324,2331,2338,2352,2359,2366,2373,2387,2394,2401,2408,2422,2429,2436,2443,2457,2464,2471,2478,2492,2499,2506,2513,2527,2534,2541,2548,2562,2569,2576,2583,2597,2604,2611,2618,2632,2639,2646,2653,2667,2674,2681,2688,2702,2709,2716,2723,2737,2744,2751,2758,2772,2779,2786,2793,2807,2814,2821,2828,2842,2849,2856,2863,2877,2884,2891,2898,2912,2919,2926,2933,2947,2954,2961,2968,2982,2989,2996,3003,3017,3024,3031,3038,3052,3059,3066,3073,3087,3094,3101,3108,3122,3129,3136,3143,3157,3164,3171,3178,3192,3199\n"
     ]
    }
   ],
   "source": [
    "# Task1: \n",
    "# You need to write a function in python that return all such numbers which are \n",
    "# divisible by 7 but are not a multiple of 5, between 2000 and 3200 (both included). \n",
    "# Return the obtained numbers in a comma-separated sequence on a single line. \n",
    "\n",
    "\n",
    "def divisible():\n",
    "    \n",
    "    return \",\".join([str(num) for num in range(2000, 3201) if num % 7 == 0 and num % 5 != 0])\n",
    "\n",
    "print(divisible())\n"
   ]
  },
  {
   "cell_type": "code",
   "execution_count": 17,
   "id": "c60365c5-7f53-4091-b91f-17d9aec9e355",
   "metadata": {},
   "outputs": [
    {
     "name": "stdin",
     "output_type": "stream",
     "text": [
      "Enter values of C (comma-separated):  100,150,180\n"
     ]
    },
    {
     "name": "stdout",
     "output_type": "stream",
     "text": [
      "5,4,4\n"
     ]
    }
   ],
   "source": [
    "# # Task2: \n",
    "# # You need code a function that calculates and returns the value according to the \n",
    "# # given formula: \n",
    "# # P = Square root of [(2 * A * B)/C] \n",
    "# # Following are the fixed values of A and B: \n",
    "# # A is 50. B is 30. \n",
    "# # The values of the literal C should be taken as console input to your program in a \n",
    "# # comma-separated sequence. \n",
    "# # Example \n",
    "# # Let us assume the following comma separated input sequence is given to the \n",
    "# # program: \n",
    "# # 100,150,180 \n",
    "# # The output of the program should be: \n",
    "# # 18,22,24 \n",
    "# import math\n",
    "\n",
    "# def calculate():\n",
    "#     A = 50\n",
    "#     B = 30\n",
    "#     C_values = map(int, input(\"Enter values of C (comma-separated): \").split(\",\"))\n",
    "#     return \",\".join([str(int(math.sqrt((2 * A * B) / C))) for C in C_values])\n",
    "\n",
    "# # Test\n",
    "# print(calculate())\n"
   ]
  },
  {
   "cell_type": "code",
   "execution_count": 34,
   "id": "585d92ec-3c35-47e0-84b7-b0ecd05f6683",
   "metadata": {},
   "outputs": [
    {
     "name": "stdin",
     "output_type": "stream",
     "text": [
      "Enter words separated by commas:  hello,word,khan\n"
     ]
    },
    {
     "name": "stdout",
     "output_type": "stream",
     "text": [
      "hello,khan,word\n"
     ]
    }
   ],
   "source": [
    "# Task3: \n",
    "# You need to write a function that takes a comma separated sequence of words as \n",
    "# input and prints the words in a comma-separated sequence after sorting them \n",
    "# alphabetically. \n",
    "# Suppose the following input is supplied to the program: \n",
    "# without,hello,bag,world \n",
    "# Then, the output should be: \n",
    "# bag,hello,without,world \n",
    "\n",
    "def sort_words_method1():\n",
    "    input_words = input(\"Enter words separated by commas: \")\n",
    "    word_list = input_words.split(\",\")\n",
    "    word_list.sort() \n",
    "    print(\",\".join(word_list))  \n",
    "\n",
    "\n",
    "sort_words_method1()\n"
   ]
  },
  {
   "cell_type": "code",
   "execution_count": 38,
   "id": "3e362ae5-2998-47e9-ad79-6a12f750ab31",
   "metadata": {},
   "outputs": [
    {
     "name": "stdout",
     "output_type": "stream",
     "text": [
      "Enter lines (type 'done' to stop):\n"
     ]
    },
    {
     "name": "stdin",
     "output_type": "stream",
     "text": [
      " hello world \n",
      " hello g\n",
      " done\n"
     ]
    },
    {
     "name": "stdout",
     "output_type": "stream",
     "text": [
      "HELLO WORLD \n",
      "HELLO G\n"
     ]
    }
   ],
   "source": [
    "# Task4: \n",
    "# You need to write a program that takes sequence of lines as input and prints the \n",
    "# lines after making all characters in the sentence capitalized. \n",
    "# Suppose the following input is supplied to the program: \n",
    "# Hello world \n",
    "# Practice makes perfect \n",
    "# Then, the output should be:\n",
    "\n",
    "def capitalize_lines_method3():\n",
    "    \n",
    "    print(\"Enter lines (type 'done' to stop):\")\n",
    "    lines = []\n",
    "    \n",
    "    while True:\n",
    "        line = input()\n",
    "        if line.lower() == \"done\":\n",
    "            break\n",
    "        lines.append(line)\n",
    "    \n",
    "    \n",
    "    capitalized_lines = [line.upper() for line in lines]\n",
    "    \n",
    "    \n",
    "    for line in capitalized_lines:\n",
    "        print(line)\n",
    "\n",
    "\n",
    "capitalize_lines_method3()\n"
   ]
  },
  {
   "cell_type": "code",
   "execution_count": 40,
   "id": "4b81641b-8589-49ac-a395-62566c1c6e95",
   "metadata": {},
   "outputs": [
    {
     "name": "stdin",
     "output_type": "stream",
     "text": [
      "Enter a sentence:  you are a ood\n"
     ]
    },
    {
     "name": "stdout",
     "output_type": "stream",
     "text": [
      "a appeared 2 times\n",
      "e appeared 1 time\n",
      "i appeared 0 times\n",
      "o appeared 3 times\n",
      "u appeared 1 time\n"
     ]
    }
   ],
   "source": [
    "# Task5: \n",
    "# You need to write a function that counts the number of vowels in a given \n",
    "# sentence as input from console. \n",
    "# Suppose the following input is supplied to the program: \n",
    "# Hello world \n",
    "# Practice makes perfect \n",
    "# Then, the output should be: \n",
    "# a appeared 2 times \n",
    "# e appeared 5 times \n",
    "# i appeared 1 time \n",
    "# o appeared 2 times \n",
    "# u appeared 0 time \n",
    "# PRACTICE MAKES PERFECT\n",
    "\n",
    "def count_vowels_method3():\n",
    "    sentence = input(\"Enter a sentence: \")\n",
    "    vowels = \"aeiou\"\n",
    "    \n",
    "    # Count occurrences of each vowel\n",
    "    for vowel in vowels:\n",
    "        count = sentence.lower().count(vowel)\n",
    "        print(f\"{vowel} appeared {count} time{'s' if count != 1 else ''}\")\n",
    "\n",
    "# Test the function\n",
    "count_vowels_method3()\n"
   ]
  },
  {
   "cell_type": "code",
   "execution_count": null,
   "id": "e77fe675-82ec-4124-93b4-ece892532c73",
   "metadata": {},
   "outputs": [],
   "source": []
  },
  {
   "cell_type": "code",
   "execution_count": null,
   "id": "30417bc3-1832-43ba-b354-ed7428d903e9",
   "metadata": {},
   "outputs": [],
   "source": []
  },
  {
   "cell_type": "code",
   "execution_count": null,
   "id": "d8092b25-838a-4fcf-8d80-b0f9a0cf8860",
   "metadata": {},
   "outputs": [],
   "source": [
    "\n"
   ]
  }
 ],
 "metadata": {
  "kernelspec": {
   "display_name": "Python 3 (ipykernel)",
   "language": "python",
   "name": "python3"
  },
  "language_info": {
   "codemirror_mode": {
    "name": "ipython",
    "version": 3
   },
   "file_extension": ".py",
   "mimetype": "text/x-python",
   "name": "python",
   "nbconvert_exporter": "python",
   "pygments_lexer": "ipython3",
   "version": "3.11.4"
  }
 },
 "nbformat": 4,
 "nbformat_minor": 5
}
