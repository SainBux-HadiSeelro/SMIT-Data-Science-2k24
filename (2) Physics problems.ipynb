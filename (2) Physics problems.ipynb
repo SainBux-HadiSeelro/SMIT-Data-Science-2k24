{
 "cells": [
  {
   "cell_type": "code",
   "execution_count": 28,
   "id": "18864f74-48c0-410b-88a2-957f12566260",
   "metadata": {},
   "outputs": [
    {
     "name": "stdin",
     "output_type": "stream",
     "text": [
      "enter the length of the rectangle 12\n",
      "enter the width of the rectangle 8\n"
     ]
    },
    {
     "name": "stdout",
     "output_type": "stream",
     "text": [
      " the area of the rectangle is:96.0\n"
     ]
    }
   ],
   "source": [
    "# 1) Area of a Rectangle: \n",
    "# Write a Python program to calculate the area of a rectangle. Use the formula: \n",
    "# 𝐴𝒓𝒆𝒂 = 𝒍𝒆𝒏𝒈𝒕𝒉 × 𝒘𝒊𝒅𝒕𝒉\n",
    "# Take length and width as inputs from the user. \n",
    "\n",
    "length=float(input(\"enter the length of the rectangle\"))\n",
    "width=float(input(\"enter the width of the rectangle\"))\n",
    "area= length*width\n",
    "print(f\" the area of the rectangle is:{area}\")"
   ]
  },
  {
   "cell_type": "code",
   "execution_count": 30,
   "id": "5dc22a11-617c-479f-8035-889e58c8424f",
   "metadata": {},
   "outputs": [
    {
     "name": "stdin",
     "output_type": "stream",
     "text": [
      "Enter the radius of the circle:  8\n"
     ]
    },
    {
     "name": "stdout",
     "output_type": "stream",
     "text": [
      "The circumference of the circle is: 50.26548245743669\n"
     ]
    }
   ],
   "source": [
    "# 2) Circumference of a Circle: \n",
    "# Write a Python program to calculate the circumference of a circle. Use the formula: \n",
    "# 𝑪𝒊𝒓𝒄𝒖𝒎𝒇𝒆𝒓𝒆𝒏𝒄𝒆 = 𝟐𝝅𝒓\n",
    "# Take the radius r as input from the user.\n",
    "\n",
    "\n",
    "import math\n",
    "\n",
    "# Get input from the user\n",
    "radius = float(input(\"Enter the radius of the circle: \"))\n",
    "\n",
    "# Calculate the circumference\n",
    "circumference = 2 * math.pi * radius\n",
    "\n",
    "# Display the result\n",
    "print(f\"The circumference of the circle is: {circumference}\")\n"
   ]
  },
  {
   "cell_type": "code",
   "execution_count": 34,
   "id": "adb81d2a-a1b9-414c-a773-867ab57a0460",
   "metadata": {},
   "outputs": [
    {
     "name": "stdin",
     "output_type": "stream",
     "text": [
      "entern the principal of amount 50000\n",
      "entern the rate of % 20\n",
      "entern the time in years  5\n"
     ]
    },
    {
     "name": "stdout",
     "output_type": "stream",
     "text": [
      "50000.0\n"
     ]
    }
   ],
   "source": [
    "# 3) Simple Interest: \n",
    "# Write a Python program to calculate the simple interest. Use the formula: \n",
    "# 𝑺𝒊𝒎𝒑𝒍𝒆 𝑰𝒏𝒕𝒆𝒓𝒆𝒔𝒕 = 𝑷𝒓𝒊𝒏𝒄𝒊𝒑𝒂𝒍 × 𝑹𝒂𝒕𝒆 × 𝑻𝒊𝒎𝒆 \n",
    "# Take Principal, Rate, and Time as inputs from the user\n",
    "\n",
    "principal=float(input(\"entern the principal of amount\"))\n",
    "rate=float(input(\"entern the rate of %\"))\n",
    "time=float(input(\"entern the time in years \"))\n",
    "simpleintrest=(principal*rate*time)/100\n",
    "print(simpleintrest)"
   ]
  },
  {
   "cell_type": "code",
   "execution_count": 42,
   "id": "8cbe1bce-324d-44a3-be89-4e618c57374d",
   "metadata": {},
   "outputs": [
    {
     "name": "stdin",
     "output_type": "stream",
     "text": [
      "Enter the distance(in meters) 3200\n",
      "Enter the time(in seconds) 120\n"
     ]
    },
    {
     "name": "stdout",
     "output_type": "stream",
     "text": [
      "The speed of the object is : 26.666666666666668 meters per second\n"
     ]
    }
   ],
   "source": [
    "# 4) Speed of an Object: \n",
    "# Write a Python program to calculate the speed of an object. Use the formula: \n",
    "# 𝑆𝒑𝒆𝒆𝒅 = 𝑫𝒊𝒔𝒕𝒂𝒏𝒄𝒆 / 𝑻𝒊𝒎𝒆\n",
    "# Take Distance and Time as inputs from the user.\n",
    "\n",
    "distance=float(input(\"Enter the distance(in meters)\"))\n",
    "time=float(input(\"Enter the time(in seconds)\"))\n",
    "speed=distance/time\n",
    "print(f\"The speed of the object is : {speed} meters per second\")"
   ]
  },
  {
   "cell_type": "code",
   "execution_count": 56,
   "id": "689752b8-a6a2-41d9-8acb-244b91a55e81",
   "metadata": {},
   "outputs": [
    {
     "name": "stdin",
     "output_type": "stream",
     "text": [
      "Enter the weight(in kg) 62\n",
      "Enter the height(in meters) 2\n"
     ]
    },
    {
     "name": "stdout",
     "output_type": "stream",
     "text": [
      "the your bmi is : 15.50\n"
     ]
    }
   ],
   "source": [
    "# 5) BMI Calculator: \n",
    "# Write a Python program to calculate the Body Mass Index (BMI). Use the formula: \n",
    "# BMI = weight (kg)/(height(meter))^2\n",
    "#  Take Weight (in kilograms) and Height (in meters) as inputs from the user\n",
    "weight=float(input(\"Enter the weight(in kg)\"))\n",
    "height=float(input(\"Enter the height(in meters)\"))\n",
    "bmi = weight/(height **2)\n",
    "print(f\"the your bmi is : {bmi:.2f}\")"
   ]
  },
  {
   "cell_type": "code",
   "execution_count": 62,
   "id": "5582280a-85ed-489d-9768-ae2d05594feb",
   "metadata": {},
   "outputs": [
    {
     "name": "stdin",
     "output_type": "stream",
     "text": [
      "Enter the mass of the object (in kilograms):  99\n",
      "Enter the acceleration of the object (in meters per second squared):  99\n"
     ]
    },
    {
     "name": "stdout",
     "output_type": "stream",
     "text": [
      "The force acting on the object is: 9801.0 Newtons\n"
     ]
    }
   ],
   "source": [
    "# 6) Force Using Newton's Second Law: \n",
    "# Write a Python program to calculate the force on an object. Use the formula: \n",
    "# Take m (mass in kilograms) and a (acceleration in meters/second²) as inputs from the \n",
    "# user. \n",
    "\n",
    "# Get input from the user\n",
    "mass = float(input(\"Enter the mass of the object (in kilograms): \"))\n",
    "acceleration = float(input(\"Enter the acceleration of the object (in meters per second squared): \"))\n",
    "\n",
    "# Calculate force\n",
    "force = mass * acceleration\n",
    "\n",
    "# Display the result\n",
    "print(f\"The force acting on the object is: {force} Newtons\")\n",
    "\n"
   ]
  },
  {
   "cell_type": "code",
   "execution_count": 66,
   "id": "bc154026-3972-4cef-81b5-4a942c64263a",
   "metadata": {},
   "outputs": [
    {
     "name": "stdin",
     "output_type": "stream",
     "text": [
      "Enter the principal amount (P):  5000\n",
      "Enter the annual interest rate (as a decimal, e.g., 0.05 for 5%):  5\n",
      "Enter the number of times interest is compounded per year (n):  2\n",
      "Enter the time in years (t):  2\n"
     ]
    },
    {
     "name": "stdout",
     "output_type": "stream",
     "text": [
      "The total amount after 2.0 years is: 750312.50\n"
     ]
    }
   ],
   "source": [
    "# 7) Compound Interest: \n",
    "# Write a Python program to calculate compound interest. Use the formula: \n",
    "# A=P *(1+r/n)^n-t \n",
    "# Where: \n",
    "# A= total amount \n",
    "# P = principal amount \n",
    "# r = annual interest rate (decimal) \n",
    "# n = number of times interest is compounded per year \n",
    "# t = time in years \n",
    "# Take P, r, n, and t as inputs from the user \n",
    "\n",
    "# Get input from the user\n",
    "P = float(input(\"Enter the principal amount (P): \"))\n",
    "r = float(input(\"Enter the annual interest rate (as a decimal, e.g., 0.05 for 5%): \"))\n",
    "n = int(input(\"Enter the number of times interest is compounded per year (n): \"))\n",
    "t = float(input(\"Enter the time in years (t): \"))\n",
    "\n",
    "# Calculate the total amount\n",
    "A = P * (1 + r / n) ** (n * t)\n",
    "\n",
    "# Display the result\n",
    "print(f\"The total amount after {t} years is: {A:.2f}\")\n",
    "\n",
    "\n"
   ]
  },
  {
   "cell_type": "code",
   "execution_count": 72,
   "id": "bab791c8-7eee-4d2b-b0d4-bc5112368ae8",
   "metadata": {},
   "outputs": [
    {
     "name": "stdin",
     "output_type": "stream",
     "text": [
      "Enter the length of side a 5\n",
      "Enter the length of side b 5\n",
      "Enter the length of side c 5\n"
     ]
    },
    {
     "name": "stdout",
     "output_type": "stream",
     "text": [
      "The perimeter of the triangle is:15.0\n"
     ]
    }
   ],
   "source": [
    "# 8) Perimeter of a Triangle: \n",
    "# Write a Python program to calculate the perimeter of a triangle. Use the formula: \n",
    "# 𝑷𝒆𝒓𝒊𝒎𝒆𝒕𝒆𝒓 = 𝒂 + 𝒃 + 𝒄\n",
    "# Take a, b, and c (lengths of the three sides) as inputs from the user.\n",
    "\n",
    "a=float(input(\"Enter the length of side a\"))\n",
    "b=float(input(\"Enter the length of side b\"))\n",
    "c=float(input(\"Enter the length of side c\"))\n",
    "perimeter= a+b+c\n",
    "print(f\"The perimeter of the triangle is:{perimeter}\")\n"
   ]
  },
  {
   "cell_type": "code",
   "execution_count": 84,
   "id": "2ee59cda-7e92-4c80-98e3-e0e2ab41f9d4",
   "metadata": {},
   "outputs": [
    {
     "name": "stdin",
     "output_type": "stream",
     "text": [
      "Enter the radius 3\n"
     ]
    },
    {
     "name": "stdout",
     "output_type": "stream",
     "text": [
      "The volume of the sphere is: 113.10\n"
     ]
    }
   ],
   "source": [
    "# 9) Volume of a Sphere: \n",
    "# Write a Python program to calculate the volume of a sphere. Use the formula: \n",
    "# volume = 4/3 pi^3\n",
    "# Take r (radius) as input from the user.\n",
    "import math \n",
    "r=float(input(\"Enter the radius\"))\n",
    "volume = (4/3)* math.pi*(r **3)\n",
    "print(f\"The volume of the sphere is: {volume:.2f}\")"
   ]
  },
  {
   "cell_type": "code",
   "execution_count": 86,
   "id": "cf8a9b88-3d07-4611-b771-f251c30c84db",
   "metadata": {},
   "outputs": [
    {
     "name": "stdin",
     "output_type": "stream",
     "text": [
      "Enter the mass of the object (in kilograms):  4\n",
      "Enter the velocity of the object (in meters/second):  4\n"
     ]
    },
    {
     "name": "stdout",
     "output_type": "stream",
     "text": [
      "The kinetic energy of the object is: 32.00 Joules\n"
     ]
    }
   ],
   "source": [
    "# 10) Kinetic Energy: \n",
    "# Write a Python program to calculate the kinetic energy of an object. Use the formula: \n",
    "# KE = (1/2)mv**2\n",
    "# Take m (mass in kilograms) and v (velocity in meters/second) as inputs from the user.\n",
    "# Get input from the user\n",
    "mass = float(input(\"Enter the mass of the object (in kilograms): \"))\n",
    "velocity = float(input(\"Enter the velocity of the object (in meters/second): \"))\n",
    "\n",
    "# Calculate kinetic energy\n",
    "kinetic_energy = (1 / 2) * mass * (velocity ** 2)\n",
    "\n",
    "# Display the result\n",
    "print(f\"The kinetic energy of the object is: {kinetic_energy:.2f} Joules\")\n"
   ]
  },
  {
   "cell_type": "code",
   "execution_count": 1,
   "id": "ab6337c9-31f7-4309-b857-e1ef72777fd3",
   "metadata": {},
   "outputs": [
    {
     "name": "stdin",
     "output_type": "stream",
     "text": [
      "Enter the coefficient a:  12\n",
      "Enter the coefficient b:  2\n",
      "Enter the coefficient c:  2\n"
     ]
    },
    {
     "name": "stdout",
     "output_type": "stream",
     "text": [
      "The roots of the quadratic equation are: (-0.08333333333333333+0.3996526269427266j) and (-0.08333333333333333-0.3996526269427266j)\n"
     ]
    }
   ],
   "source": [
    "# 11) Quadratic Equation Roots: \n",
    "# Write a Python program to find the roots of a quadratic equation. Use the formula: \n",
    "# x = (-b+^b**2 - 4ac)/2a\n",
    "# Take a, b, and c as inputs from the user.\n",
    "\n",
    "import cmath  # cmath is used to handle complex numbers\n",
    "\n",
    "# Input coefficients from the user\n",
    "a = float(input(\"Enter the coefficient a: \"))\n",
    "b = float(input(\"Enter the coefficient b: \"))\n",
    "c = float(input(\"Enter the coefficient c: \"))\n",
    "\n",
    "# Calculate the discriminant\n",
    "discriminant = (b**2) - (4*a*c)\n",
    "\n",
    "# Calculate the two roots\n",
    "root1 = (-b + cmath.sqrt(discriminant)) / (2 * a)\n",
    "root2 = (-b - cmath.sqrt(discriminant)) / (2 * a)\n",
    "\n",
    "# Display the results\n",
    "print(f\"The roots of the quadratic equation are: {root1} and {root2}\")\n",
    "\n"
   ]
  },
  {
   "cell_type": "code",
   "execution_count": 3,
   "id": "1ebe0d79-fb40-4b6c-ace8-d660e0bbfe1b",
   "metadata": {},
   "outputs": [
    {
     "name": "stdin",
     "output_type": "stream",
     "text": [
      "Enter the temperature in Celsius:  2\n"
     ]
    },
    {
     "name": "stdout",
     "output_type": "stream",
     "text": [
      "The temperature in Fahrenheit is: 35.6°F\n"
     ]
    }
   ],
   "source": [
    "# 12) Temperature Conversion: \n",
    "# Write a Python program to convert a temperature from Celsius to Fahrenheit. Use the \n",
    "# formula: \n",
    "# f = (9/5) c+32\n",
    "# Take C (temperature in Celsius) as input from the user\n",
    "\n",
    "# Input temperature in Celsius from the user\n",
    "celsius = float(input(\"Enter the temperature in Celsius: \"))\n",
    "\n",
    "# Convert Celsius to Fahrenheit using the formula\n",
    "fahrenheit = (9 / 5) * celsius + 32\n",
    "\n",
    "# Display the result\n",
    "print(f\"The temperature in Fahrenheit is: {fahrenheit}°F\")\n",
    "\n"
   ]
  },
  {
   "cell_type": "code",
   "execution_count": 13,
   "id": "c586a92c-e4f4-4b22-b4b2-4d42f25c82eb",
   "metadata": {},
   "outputs": [
    {
     "name": "stdin",
     "output_type": "stream",
     "text": [
      "Enter the m1 mass of the object 2\n",
      "Enter the m2 mass of the object 2\n",
      "Enter the radius  of the object 12\n"
     ]
    },
    {
     "name": "stdout",
     "output_type": "stream",
     "text": [
      "The gravitational force between the objects is: 1.853972222222222e-12 N\n"
     ]
    }
   ],
   "source": [
    "# 13)Gravitational Force: \n",
    "# Write a Python program to calculate the gravitational force between two objects. Use \n",
    "# the formula \n",
    "#F= g(m1*m2)/r**2\n",
    "# m1, m2 are the masses of the objects \n",
    "# r = distance between the centers of the objects \n",
    "# Take m1, m2 and r as inputs from the user.\n",
    "\n",
    "g= 6.67430e-11  \n",
    "m1=float(input(\"Enter the m1 mass of the object\"))\n",
    "m2=float(input(\"Enter the m2 mass of the object\"))\n",
    "r=float(input(\"Enter the radius  of the object\"))\n",
    "\n",
    "force =g*(m1*m2)/(r**2)\n",
    "\n",
    "print(f\"The gravitational force between the objects is: {force} N\")\n",
    "\n",
    "\n"
   ]
  },
  {
   "cell_type": "code",
   "execution_count": 19,
   "id": "08f7d930-2f95-43b0-9bfa-6ff57e9194d0",
   "metadata": {},
   "outputs": [
    {
     "name": "stdin",
     "output_type": "stream",
     "text": [
      "Enter the radius of the cylinder (in units):  22\n",
      "Enter the height of the cylinder (in units):  12\n"
     ]
    },
    {
     "name": "stdout",
     "output_type": "stream",
     "text": [
      "The volume of the cylinder is: 18246.37 cubic units\n"
     ]
    }
   ],
   "source": [
    "# 14) Volume of a Cylinder:\n",
    "# Write a Python program to calculate the volume of a cylinder. Use the formula: \n",
    "# 𝑽𝒐𝒍𝒖𝒎𝒆 = 𝝅𝒓𝟐𝒉\n",
    "# Take radius(r) and height(h) as inputs from the user\n",
    "\n",
    "import math  # To use the value of π (pi)\n",
    "\n",
    "# Input radius and height from the user\n",
    "radius = float(input(\"Enter the radius of the cylinder (in units): \"))\n",
    "height = float(input(\"Enter the height of the cylinder (in units): \"))\n",
    "\n",
    "# Calculate the volume of the cylinder\n",
    "volume = math.pi * (radius ** 2) * height\n",
    "\n",
    "# Display the result\n",
    "print(f\"The volume of the cylinder is: {volume:.2f} cubic units\")\n"
   ]
  },
  {
   "cell_type": "code",
   "execution_count": 27,
   "id": "077ac848-c361-408a-b49f-9255ab67d4c1",
   "metadata": {},
   "outputs": [
    {
     "name": "stdin",
     "output_type": "stream",
     "text": [
      "Enter the force 2\n",
      "Enter the area 2\n"
     ]
    },
    {
     "name": "stdout",
     "output_type": "stream",
     "text": [
      "The pressure exerted on the surface is: 1.00 pascal (pa)\n"
     ]
    }
   ],
   "source": [
    "# 15) Pressure:\n",
    "# Write a Python program to calculate the pressure exerted by a force on a surface. Use \n",
    "# the formula: \n",
    "# 𝑷 = F/A \n",
    "# P = pressure \n",
    "# F = force \n",
    "# A = area \n",
    "# Take F(force) and A(area) as inputs from the user\n",
    "\n",
    "force= float(input(\"Enter the force\"))\n",
    "area= float(input(\"Enter the area\"))\n",
    "p = force/area\n",
    "print(f\"The pressure exerted on the surface is: {p:.2f} pascal (pa)\")"
   ]
  },
  {
   "cell_type": "code",
   "execution_count": 39,
   "id": "e947f311-2108-4991-b747-42c269d40e19",
   "metadata": {},
   "outputs": [
    {
     "name": "stdin",
     "output_type": "stream",
     "text": [
      "Enter the voltage  22\n",
      "Enter the current  22\n"
     ]
    },
    {
     "name": "stdout",
     "output_type": "stream",
     "text": [
      "The electric power cosumed is: 1.00 watts (w)\n"
     ]
    }
   ],
   "source": [
    "# 16) Electric Power:\n",
    "# Write a Python program to calculate the electric power consumed. Use the formula: \n",
    "# p=v/i\n",
    "# where: \n",
    "# P = power \n",
    "# V = voltage \n",
    "# I = current \n",
    "# Take V(voltage) and I(current) as inputs from the user.\n",
    "\n",
    "v=float(input(\"Enter the voltage \"))\n",
    "i=float(input(\"Enter the current \"))\n",
    "p= v/i\n",
    "print(f\"The electric power cosumed is: {p:.2f} watts (w)\")\n"
   ]
  },
  {
   "cell_type": "code",
   "execution_count": 41,
   "id": "da4fa6c4-3459-4df7-8fa7-8ba29e0e6dfb",
   "metadata": {},
   "outputs": [
    {
     "name": "stdin",
     "output_type": "stream",
     "text": [
      "Enter the radius of the circle (in units):  22\n"
     ]
    },
    {
     "name": "stdout",
     "output_type": "stream",
     "text": [
      "The perimeter (circumference) of the circle is: 138.23 units\n"
     ]
    }
   ],
   "source": [
    "# 17) Perimeter of a Circle (Circumference): \n",
    "# Write a Python program to calculate the perimeter (circumference) of a circle. Use the \n",
    "# formula: \n",
    "# p=2pi*r\n",
    "# Take r (radius) as input from the user.\n",
    "\n",
    "import math  # To use the value of π (pi)\n",
    "\n",
    "# Input radius from the user\n",
    "radius = float(input(\"Enter the radius of the circle (in units): \"))\n",
    "\n",
    "# Calculate the circumference using the formula\n",
    "circumference = 2 * math.pi * radius\n",
    "\n",
    "# Display the result\n",
    "print(f\"The perimeter (circumference) of the circle is: {circumference:.2f} units\")\n"
   ]
  },
  {
   "cell_type": "code",
   "execution_count": 45,
   "id": "23e3a88a-7633-44f2-90bb-ce9473a5c2af",
   "metadata": {},
   "outputs": [
    {
     "name": "stdin",
     "output_type": "stream",
     "text": [
      "Enter the present value of the investment (in currency):  2\n",
      "Enter the annual interest rate (as a decimal, e.g., 0.05 for 5%):  2\n",
      "Enter the time period of the investment (in years):  2\n"
     ]
    },
    {
     "name": "stdout",
     "output_type": "stream",
     "text": [
      "The future value of the investment is: 18.00\n"
     ]
    }
   ],
   "source": [
    "# 18) Future Value in Savings:\n",
    "# Write a Python program to calculate the future value of an investment. Use the formula: \n",
    "# FV=PV⋅(1+r) **t\n",
    "# where: \n",
    "# o FV= future value \n",
    "# o PV= present value \n",
    "# o r= annual interest rate (as a decimal) \n",
    "# o t= time in years \n",
    "# Take PV, r, and t as inputs from the user.\n",
    "\n",
    "\n",
    "# Input present value, annual interest rate, and time in years from the user\n",
    "present_value = float(input(\"Enter the present value of the investment (in currency): \"))\n",
    "annual_interest_rate = float(input(\"Enter the annual interest rate (as a decimal, e.g., 0.05 for 5%): \"))\n",
    "time_years = float(input(\"Enter the time period of the investment (in years): \"))\n",
    "\n",
    "# Calculate future value using the formula\n",
    "future_value = present_value * (1 + annual_interest_rate) ** time_years\n",
    "\n",
    "# Display the result\n",
    "print(f\"The future value of the investment is: {future_value:.2f}\")\n"
   ]
  },
  {
   "cell_type": "code",
   "execution_count": 47,
   "id": "a3ee0143-be22-4608-8b3e-72b001a10d93",
   "metadata": {},
   "outputs": [
    {
     "name": "stdin",
     "output_type": "stream",
     "text": [
      "Enter the force applied (in Newtons):  22\n",
      "Enter the distance moved (in meters):  22\n",
      "Enter the angle between the force and the direction of movement (in degrees):  12\n"
     ]
    },
    {
     "name": "stdout",
     "output_type": "stream",
     "text": [
      "The work done by the force is: 473.42 Joules (J)\n"
     ]
    }
   ],
   "source": [
    "# 19) Work Done by a Force:\n",
    "# Write a Python program to calculate the work done by a force. Use the formula: \n",
    "# where: \n",
    "# w=f.dcos0\n",
    "# W = work done \n",
    "# f= force \n",
    "# d = distance \n",
    "# theta = angle between force and direction of movement (in degrees) \n",
    "# Take f, d, and θ as inputs from the user.\n",
    "\n",
    "import math  # To use trigonometric functions and constants\n",
    "\n",
    "# Input force, distance, and angle from the user\n",
    "force = float(input(\"Enter the force applied (in Newtons): \"))\n",
    "distance = float(input(\"Enter the distance moved (in meters): \"))\n",
    "theta = float(input(\"Enter the angle between the force and the direction of movement (in degrees): \"))\n",
    "\n",
    "# Convert the angle from degrees to radians\n",
    "theta_radians = math.radians(theta)\n",
    "\n",
    "# Calculate work done using the formula\n",
    "work_done = force * distance * math.cos(theta_radians)\n",
    "\n",
    "# Display the result\n",
    "print(f\"The work done by the force is: {work_done:.2f} Joules (J)\")\n"
   ]
  },
  {
   "cell_type": "code",
   "execution_count": 49,
   "id": "3319157a-db11-486e-8fa0-27750381358e",
   "metadata": {},
   "outputs": [
    {
     "name": "stdin",
     "output_type": "stream",
     "text": [
      "Enter the mass (in kg):  12\n",
      "Enter the specific heat capacity (in J/kg°C):  22\n",
      "Enter the temperature change (ΔT) in Celsius (°C):  22\n"
     ]
    },
    {
     "name": "stdout",
     "output_type": "stream",
     "text": [
      "The amount of heat transferred is: 5808.00 Joules (J)\n"
     ]
    }
   ],
   "source": [
    "# 20) Heat Transfer:\n",
    "# Write a Python program to calculate the amount of heat transferred. Use the formula: \n",
    "# 𝑄 = 𝑚𝑐 (∆T)\n",
    "# where: \n",
    "# Q= heat transfer \n",
    "# m = mass \n",
    "# c = specific heat capacity \n",
    "# ΔT \n",
    "# Take m, c, T as inputs from the user.\n",
    "\n",
    "# Input mass, specific heat capacity, and temperature change from the user\n",
    "mass = float(input(\"Enter the mass (in kg): \"))\n",
    "specific_heat_capacity = float(input(\"Enter the specific heat capacity (in J/kg°C): \"))\n",
    "temperature_change = float(input(\"Enter the temperature change (ΔT) in Celsius (°C): \"))\n",
    "\n",
    "# Calculate the heat transfer using the formula\n",
    "heat_transfer = mass * specific_heat_capacity * temperature_change\n",
    "\n",
    "# Display the result\n",
    "print(f\"The amount of heat transferred is: {heat_transfer:.2f} Joules (J)\")\n"
   ]
  },
  {
   "cell_type": "code",
   "execution_count": null,
   "id": "12481943-2d63-479a-8254-ff85adf7b905",
   "metadata": {},
   "outputs": [],
   "source": []
  }
 ],
 "metadata": {
  "kernelspec": {
   "display_name": "Python 3 (ipykernel)",
   "language": "python",
   "name": "python3"
  },
  "language_info": {
   "codemirror_mode": {
    "name": "ipython",
    "version": 3
   },
   "file_extension": ".py",
   "mimetype": "text/x-python",
   "name": "python",
   "nbconvert_exporter": "python",
   "pygments_lexer": "ipython3",
   "version": "3.11.4"
  }
 },
 "nbformat": 4,
 "nbformat_minor": 5
}
